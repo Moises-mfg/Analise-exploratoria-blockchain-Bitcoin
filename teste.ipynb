{
 "cells": [
  {
   "cell_type": "code",
   "execution_count": 1,
   "metadata": {},
   "outputs": [],
   "source": [
    "import pandas as pd\n",
    "import numpy as np\n",
    "import matplotlib.pyplot as plt\n",
    "import statsmodels.api as sm"
   ]
  },
  {
   "cell_type": "code",
   "execution_count": 49,
   "metadata": {},
   "outputs": [
    {
     "name": "stdout",
     "output_type": "stream",
     "text": [
      "GMT\n",
      "Date\n"
     ]
    }
   ],
   "source": [
    "def open_blocks_data():\n",
    "    df_blockstats_daily_mean = pd.read_csv('/home/moises/Data_BTC_thesis/df_blockstats_daily_mean.csv')\n",
    "    for col in df_blockstats_daily_mean.columns:\n",
    "        #transformar em float\n",
    "        try:\n",
    "            df_blockstats_daily_mean[col] = df_blockstats_daily_mean[col].astype(float)\n",
    "        except:\n",
    "            print(col)\n",
    "            pass\n",
    "        \n",
    "    df_blockstats_daily_mean[\"GMT\"] = pd.to_datetime(df_blockstats_daily_mean[\"GMT\"])\n",
    "    df_blockstats_daily_mean[\"Date\"] = pd.to_datetime(df_blockstats_daily_mean[\"Date\"])\n",
    "    df_blockstats_daily_mean.set_index(\"GMT\", inplace=True)\n",
    "    return df_blockstats_daily_mean\n",
    "df_blockstats_daily_mean = open_blocks_data()\n",
    "\n",
    "def open_prices_data():\n",
    "    # Main resource of bitcoin price is the data from ccxt \n",
    "    #import df_price_btc_usd_agregate.csv\n",
    "    df_price_btc_usd_agregate = pd.read_csv(\"/home/moises/Data_BTC_thesis/df_price_btc_usd_agregate.csv\")\n",
    "    #convert the Date column to datetime\n",
    "    df_price_btc_usd_agregate[\"Date\"] = pd.to_datetime(df_price_btc_usd_agregate[\"Date\"])\n",
    "    #set the Date column as index\n",
    "    #df_price_btc_usd_agregate.set_index(\"Date\", inplace=True)\n",
    "    btc_price_data = df_price_btc_usd_agregate \n",
    "    btc_price_data[\"Close\"] = btc_price_data[\"Close\"].astype(float)\n",
    "    #set the Date column as index\n",
    "    btc_price_data.set_index(\"Date\", inplace=True)\n",
    "\n",
    "    return btc_price_data\n",
    "btc_price_data = open_prices_data()\n",
    "\n",
    "\n",
    "dict_col_names = {col:{\"log\":True, \"ylabel\":True } for col in df_blockstats_daily_mean.columns} \n",
    "dict_col_names[\"avgfee\"] = {\"log\":True, \"ylabel\":\"sats\"}\n",
    "dict_col_names[\"avgfeerate\"] = {\"log\":True, \"ylabel\":\"sats/vbyte\"}\n",
    "dict_col_names[\"avgtxsize\"] = {\"log\":True, \"ylabel\":\"bytes\"}\n",
    "dict_col_names[\"blockhash\"] = {\"log\":True, \"ylabel\":None}\n",
    "dict_col_names[\"feerate_percentiles\"] = {\"log\":True, \"ylabel\":None}\n",
    "dict_col_names[\"height\"] = {\"log\":True, \"ylabel\":None}\n",
    "dict_col_names[\"ins\"] = {\"log\":False, \"ylabel\":None}\n",
    "dict_col_names[\"maxfee\"] = {\"log\":True, \"ylabel\":\"sats\"}\n",
    "dict_col_names[\"maxfeerate\"] = {\"log\":True, \"ylabel\":\"sats/vbyte\"}\n",
    "dict_col_names[\"maxtxsize\"] = {\"log\":False, \"ylabel\":\"bytes\"}\n",
    "dict_col_names[\"medianfee\"] = {\"log\":True, \"ylabel\":\"sats\"}\n",
    "dict_col_names[\"mediantime\"] = {\"log\":True, \"ylabel\":None}\n",
    "dict_col_names[\"mediantxsize\"] = {\"log\":True, \"ylabel\":\"bytes\"}    \n",
    "dict_col_names[\"minfee\"] = {\"log\":True, \"ylabel\":\"sats\"}\n",
    "dict_col_names[\"minfeerate\"] = {\"log\":True, \"ylabel\":\"sats/vbyte\"}\n",
    "dict_col_names[\"mintxsize\"] = {\"log\":True, \"ylabel\":\"bytes\"}\n",
    "dict_col_names[\"outs\"] = {\"log\":False, \"ylabel\":None}\n",
    "dict_col_names[\"subsidy\"] = {\"log\":True, \"ylabel\":\"sats\"}\n",
    "dict_col_names[\"swtotal_size\"] = {\"log\":False, \"ylabel\":\"bytes\"}\n",
    "dict_col_names[\"swtotal_weight\"] = {\"log\":False, \"ylabel\":\"wu\"}\n",
    "dict_col_names[\"swtxs\"] = {\"log\":False, \"ylabel\":None}\n",
    "dict_col_names[\"time\"] = {\"log\":True, \"ylabel\":None}\n",
    "dict_col_names[\"total_out\"] = {\"log\":True, \"ylabel\":\"sats\"}\n",
    "dict_col_names[\"total_size\"] = {\"log\":False, \"ylabel\":\"bytes\"}\n",
    "dict_col_names[\"total_weight\"] = {\"log\":False, \"ylabel\":\"wu\"}\n",
    "dict_col_names[\"totalfee\"] = {\"log\":True, \"ylabel\":\"sats\"}\n",
    "dict_col_names[\"txs\"] = {\"log\":False, \"ylabel\":None}\n",
    "dict_col_names[\"utxo_increase\"] = {\"log\":False, \"ylabel\":None}\n",
    "dict_col_names[\"utxo_size_inc\"] = {\"log\":False, \"ylabel\":None}\n",
    "dict_col_names[\"utxo_size_inc_actual\"] = {\"log\":False, \"ylabel\":None}\n",
    "dict_col_names[\"GMT\"] = {\"log\":True, \"ylabel\":None}\n",
    "dict_col_names[\"year\"] = {\"log\":True, \"ylabel\":None}\n",
    "dict_col_names[\"avgfee_btc\"] = {\"log\":True, \"ylabel\":\"BTC\"}\n",
    "dict_col_names[\"maxfee_btc\"] = {\"log\":True, \"ylabel\":\"BTC\"}\n",
    "dict_col_names[\"minfee_btc\"] = {\"log\":True, \"ylabel\":\"BTC\"}\n",
    "dict_col_names[\"subsidy_btc\"] = {\"log\":True, \"ylabel\":\"BTC\"}\n",
    "dict_col_names[\"blockhash_decimal\"] = {\"log\":True, \"ylabel\":None}\n",
    "\n",
    "\n",
    "list_fee_names = [\"avgfee\", \"avgfeerate\", \"maxfee\", \"maxfeerate\", \"medianfee\", \"minfee\", \"minfeerate\", \"totalfee\"]\n",
    "list_size_names = [\"avgtxsize\", \"maxtxsize\", \"mediantxsize\", \"mintxsize\", \"swtotal_size\", \"swtotal_weight\", \"total_size\", \"total_weight\"]\n",
    "list_count_names = [\"ins\", \"outs\", \"swtxs\", \"txs\", \"utxo_increase\", \"utxo_size_inc\", \"utxo_size_inc_actual\"]\n",
    "list_time_names = [\"time\", \"mediantime\"]\n",
    "list_subsidy_names = [\"subsidy\", \"subsidy_btc\"]\n",
    "list_block_names = [\"blockhash\", \"blockhash_decimal\", \"height\", \"year\", \"GMT\"]\n",
    "list_other_names = [\"feerate_percentiles\"]\n",
    " \n",
    "\n"
   ]
  },
  {
   "cell_type": "code",
   "execution_count": 50,
   "metadata": {},
   "outputs": [
    {
     "name": "stdout",
     "output_type": "stream",
     "text": [
      "Empty DataFrame\n",
      "Columns: [Close]\n",
      "Index: []\n"
     ]
    }
   ],
   "source": [
    "# show duplicated dates btc_price_data\n",
    "print(btc_price_data[btc_price_data.index.duplicated()])"
   ]
  },
  {
   "cell_type": "code",
   "execution_count": 43,
   "metadata": {},
   "outputs": [
    {
     "data": {
      "text/html": [
       "<div>\n",
       "<style scoped>\n",
       "    .dataframe tbody tr th:only-of-type {\n",
       "        vertical-align: middle;\n",
       "    }\n",
       "\n",
       "    .dataframe tbody tr th {\n",
       "        vertical-align: top;\n",
       "    }\n",
       "\n",
       "    .dataframe thead th {\n",
       "        text-align: right;\n",
       "    }\n",
       "</style>\n",
       "<table border=\"1\" class=\"dataframe\">\n",
       "  <thead>\n",
       "    <tr style=\"text-align: right;\">\n",
       "      <th></th>\n",
       "      <th>Close</th>\n",
       "    </tr>\n",
       "    <tr>\n",
       "      <th>Date</th>\n",
       "      <th></th>\n",
       "    </tr>\n",
       "  </thead>\n",
       "  <tbody>\n",
       "    <tr>\n",
       "      <th>2009-01-09</th>\n",
       "      <td>0.000000</td>\n",
       "    </tr>\n",
       "    <tr>\n",
       "      <th>2009-01-10</th>\n",
       "      <td>0.000000</td>\n",
       "    </tr>\n",
       "    <tr>\n",
       "      <th>2009-01-11</th>\n",
       "      <td>0.000000</td>\n",
       "    </tr>\n",
       "    <tr>\n",
       "      <th>2009-01-12</th>\n",
       "      <td>0.000000</td>\n",
       "    </tr>\n",
       "    <tr>\n",
       "      <th>2009-01-13</th>\n",
       "      <td>0.000000</td>\n",
       "    </tr>\n",
       "    <tr>\n",
       "      <th>...</th>\n",
       "      <td>...</td>\n",
       "    </tr>\n",
       "    <tr>\n",
       "      <th>2023-07-27</th>\n",
       "      <td>29312.836826</td>\n",
       "    </tr>\n",
       "    <tr>\n",
       "      <th>2023-07-28</th>\n",
       "      <td>29358.839335</td>\n",
       "    </tr>\n",
       "    <tr>\n",
       "      <th>2023-07-29</th>\n",
       "      <td>29268.279610</td>\n",
       "    </tr>\n",
       "    <tr>\n",
       "      <th>2023-07-30</th>\n",
       "      <td>29223.472673</td>\n",
       "    </tr>\n",
       "    <tr>\n",
       "      <th>2023-07-31</th>\n",
       "      <td>29698.521370</td>\n",
       "    </tr>\n",
       "  </tbody>\n",
       "</table>\n",
       "<p>6129 rows × 1 columns</p>\n",
       "</div>"
      ],
      "text/plain": [
       "                   Close\n",
       "Date                    \n",
       "2009-01-09      0.000000\n",
       "2009-01-10      0.000000\n",
       "2009-01-11      0.000000\n",
       "2009-01-12      0.000000\n",
       "2009-01-13      0.000000\n",
       "...                  ...\n",
       "2023-07-27  29312.836826\n",
       "2023-07-28  29358.839335\n",
       "2023-07-29  29268.279610\n",
       "2023-07-30  29223.472673\n",
       "2023-07-31  29698.521370\n",
       "\n",
       "[6129 rows x 1 columns]"
      ]
     },
     "execution_count": 43,
     "metadata": {},
     "output_type": "execute_result"
    }
   ],
   "source": [
    "btc_price_data"
   ]
  },
  {
   "cell_type": "code",
   "execution_count": 12,
   "metadata": {},
   "outputs": [
    {
     "data": {
      "text/plain": [
       "array([ 1.00000000e+00,  9.98810252e-01,  9.97686967e-01, ...,\n",
       "       -4.96968753e-04, -3.32326565e-04, -1.68038032e-04])"
      ]
     },
     "execution_count": 12,
     "metadata": {},
     "output_type": "execute_result"
    }
   ],
   "source": [
    "\n",
    "\n",
    "#calculate cross correlation\n",
    "sm.tsa.stattools.ccf(btc_price_data_copy[\"Close\"].values, btc_price_data_copy[\"Close\"].values, adjusted=False)\n",
    "\n"
   ]
  },
  {
   "cell_type": "code",
   "execution_count": 62,
   "metadata": {},
   "outputs": [
    {
     "ename": "TypeError",
     "evalue": "'method' object is not iterable",
     "output_type": "error",
     "traceback": [
      "\u001b[0;31m---------------------------------------------------------------------------\u001b[0m",
      "\u001b[0;31mTypeError\u001b[0m                                 Traceback (most recent call last)",
      "\u001b[1;32m/home/moises/Dropbox/Analise-exploratoria-blockchain-Bitcoin/teste.ipynb Célula 6\u001b[0m line \u001b[0;36m1\n\u001b[0;32m----> <a href='vscode-notebook-cell:/home/moises/Dropbox/Analise-exploratoria-blockchain-Bitcoin/teste.ipynb#X22sZmlsZQ%3D%3D?line=0'>1</a>\u001b[0m \u001b[39mfor\u001b[39;00m col \u001b[39min\u001b[39;00m a:\n\u001b[1;32m      <a href='vscode-notebook-cell:/home/moises/Dropbox/Analise-exploratoria-blockchain-Bitcoin/teste.ipynb#X22sZmlsZQ%3D%3D?line=1'>2</a>\u001b[0m     a[col]\u001b[39m.\u001b[39mvalues \u001b[39m=\u001b[39m btc_price_data[btc_price_data\u001b[39m.\u001b[39mindex \u001b[39m==\u001b[39m \u001b[39m\"\u001b[39m\u001b[39m2011-06-19\u001b[39m\u001b[39m\"\u001b[39m][\u001b[39m\"\u001b[39m\u001b[39mClose\u001b[39m\u001b[39m\"\u001b[39m]\u001b[39m.\u001b[39mvalues\n",
      "\u001b[0;31mTypeError\u001b[0m: 'method' object is not iterable"
     ]
    }
   ],
   "source": []
  },
  {
   "cell_type": "code",
   "execution_count": 29,
   "metadata": {},
   "outputs": [],
   "source": [
    "# interpolate the data to fill the missing values with the 0 value\n",
    "btc_price_data_copy = btc_price_data.interpolate(method='linear', limit_direction='forward', axis=0)"
   ]
  },
  {
   "cell_type": "code",
   "execution_count": 38,
   "metadata": {},
   "outputs": [
    {
     "data": {
      "text/html": [
       "<div>\n",
       "<style scoped>\n",
       "    .dataframe tbody tr th:only-of-type {\n",
       "        vertical-align: middle;\n",
       "    }\n",
       "\n",
       "    .dataframe tbody tr th {\n",
       "        vertical-align: top;\n",
       "    }\n",
       "\n",
       "    .dataframe thead th {\n",
       "        text-align: right;\n",
       "    }\n",
       "</style>\n",
       "<table border=\"1\" class=\"dataframe\">\n",
       "  <thead>\n",
       "    <tr style=\"text-align: right;\">\n",
       "      <th></th>\n",
       "      <th>Close</th>\n",
       "    </tr>\n",
       "    <tr>\n",
       "      <th>Date</th>\n",
       "      <th></th>\n",
       "    </tr>\n",
       "  </thead>\n",
       "  <tbody>\n",
       "    <tr>\n",
       "      <th>2009-01-09</th>\n",
       "      <td>0.000000</td>\n",
       "    </tr>\n",
       "    <tr>\n",
       "      <th>2009-01-10</th>\n",
       "      <td>0.000000</td>\n",
       "    </tr>\n",
       "    <tr>\n",
       "      <th>2009-01-11</th>\n",
       "      <td>0.000000</td>\n",
       "    </tr>\n",
       "    <tr>\n",
       "      <th>2009-01-12</th>\n",
       "      <td>0.000000</td>\n",
       "    </tr>\n",
       "    <tr>\n",
       "      <th>2009-01-13</th>\n",
       "      <td>0.000000</td>\n",
       "    </tr>\n",
       "    <tr>\n",
       "      <th>...</th>\n",
       "      <td>...</td>\n",
       "    </tr>\n",
       "    <tr>\n",
       "      <th>2023-07-27</th>\n",
       "      <td>29312.836826</td>\n",
       "    </tr>\n",
       "    <tr>\n",
       "      <th>2023-07-28</th>\n",
       "      <td>29358.839335</td>\n",
       "    </tr>\n",
       "    <tr>\n",
       "      <th>2023-07-29</th>\n",
       "      <td>29268.279610</td>\n",
       "    </tr>\n",
       "    <tr>\n",
       "      <th>2023-07-30</th>\n",
       "      <td>29223.472673</td>\n",
       "    </tr>\n",
       "    <tr>\n",
       "      <th>2023-07-31</th>\n",
       "      <td>29698.521370</td>\n",
       "    </tr>\n",
       "  </tbody>\n",
       "</table>\n",
       "<p>5317 rows × 1 columns</p>\n",
       "</div>"
      ],
      "text/plain": [
       "                   Close\n",
       "Date                    \n",
       "2009-01-09      0.000000\n",
       "2009-01-10      0.000000\n",
       "2009-01-11      0.000000\n",
       "2009-01-12      0.000000\n",
       "2009-01-13      0.000000\n",
       "...                  ...\n",
       "2023-07-27  29312.836826\n",
       "2023-07-28  29358.839335\n",
       "2023-07-29  29268.279610\n",
       "2023-07-30  29223.472673\n",
       "2023-07-31  29698.521370\n",
       "\n",
       "[5317 rows x 1 columns]"
      ]
     },
     "execution_count": 38,
     "metadata": {},
     "output_type": "execute_result"
    }
   ],
   "source": [
    "btc_price_data"
   ]
  },
  {
   "cell_type": "code",
   "execution_count": 37,
   "metadata": {},
   "outputs": [
    {
     "data": {
      "text/html": [
       "<div>\n",
       "<style scoped>\n",
       "    .dataframe tbody tr th:only-of-type {\n",
       "        vertical-align: middle;\n",
       "    }\n",
       "\n",
       "    .dataframe tbody tr th {\n",
       "        vertical-align: top;\n",
       "    }\n",
       "\n",
       "    .dataframe thead th {\n",
       "        text-align: right;\n",
       "    }\n",
       "</style>\n",
       "<table border=\"1\" class=\"dataframe\">\n",
       "  <thead>\n",
       "    <tr style=\"text-align: right;\">\n",
       "      <th></th>\n",
       "      <th>Close</th>\n",
       "    </tr>\n",
       "    <tr>\n",
       "      <th>Date</th>\n",
       "      <th></th>\n",
       "    </tr>\n",
       "  </thead>\n",
       "  <tbody>\n",
       "    <tr>\n",
       "      <th>2009-01-09</th>\n",
       "      <td>0.000000</td>\n",
       "    </tr>\n",
       "    <tr>\n",
       "      <th>2009-01-10</th>\n",
       "      <td>0.000000</td>\n",
       "    </tr>\n",
       "    <tr>\n",
       "      <th>2009-01-11</th>\n",
       "      <td>0.000000</td>\n",
       "    </tr>\n",
       "    <tr>\n",
       "      <th>2009-01-12</th>\n",
       "      <td>0.000000</td>\n",
       "    </tr>\n",
       "    <tr>\n",
       "      <th>2009-01-13</th>\n",
       "      <td>0.000000</td>\n",
       "    </tr>\n",
       "    <tr>\n",
       "      <th>...</th>\n",
       "      <td>...</td>\n",
       "    </tr>\n",
       "    <tr>\n",
       "      <th>2023-07-27</th>\n",
       "      <td>29312.836826</td>\n",
       "    </tr>\n",
       "    <tr>\n",
       "      <th>2023-07-28</th>\n",
       "      <td>29358.839335</td>\n",
       "    </tr>\n",
       "    <tr>\n",
       "      <th>2023-07-29</th>\n",
       "      <td>29268.279610</td>\n",
       "    </tr>\n",
       "    <tr>\n",
       "      <th>2023-07-30</th>\n",
       "      <td>29223.472673</td>\n",
       "    </tr>\n",
       "    <tr>\n",
       "      <th>2023-07-31</th>\n",
       "      <td>29698.521370</td>\n",
       "    </tr>\n",
       "  </tbody>\n",
       "</table>\n",
       "<p>5317 rows × 1 columns</p>\n",
       "</div>"
      ],
      "text/plain": [
       "                   Close\n",
       "Date                    \n",
       "2009-01-09      0.000000\n",
       "2009-01-10      0.000000\n",
       "2009-01-11      0.000000\n",
       "2009-01-12      0.000000\n",
       "2009-01-13      0.000000\n",
       "...                  ...\n",
       "2023-07-27  29312.836826\n",
       "2023-07-28  29358.839335\n",
       "2023-07-29  29268.279610\n",
       "2023-07-30  29223.472673\n",
       "2023-07-31  29698.521370\n",
       "\n",
       "[5317 rows x 1 columns]"
      ]
     },
     "execution_count": 37,
     "metadata": {},
     "output_type": "execute_result"
    }
   ],
   "source": [
    "btc_price_data_copy"
   ]
  },
  {
   "cell_type": "code",
   "execution_count": 18,
   "metadata": {},
   "outputs": [
    {
     "data": {
      "image/png": "[encoded data removed]",
      "text/plain": [
       "<Figure size 2500x1500 with 1 Axes>"
      ]
     },
     "metadata": {},
     "output_type": "display_data"
    }
   ],
   "source": [
    "#plot the data to see the missing values filled\n",
    "plt.figure(figsize=(25,15))\n",
    "plt.plot(btc_price_data_copy[\"Close\"])\n",
    "plt.plot(btc_price_data[\"Close\"])\n",
    "plt.show()\n"
   ]
  },
  {
   "cell_type": "code",
   "execution_count": null,
   "metadata": {},
   "outputs": [],
   "source": []
  },
  {
   "cell_type": "code",
   "execution_count": null,
   "metadata": {},
   "outputs": [],
   "source": [
    "#plot btc_price_data and btc_price_data_copy\n"
   ]
  },
  {
   "cell_type": "code",
   "execution_count": 65,
   "metadata": {},
   "outputs": [
    {
     "data": {
      "text/plain": [
       "Close    0\n",
       "dtype: int64"
      ]
     },
     "execution_count": 65,
     "metadata": {},
     "output_type": "execute_result"
    }
   ],
   "source": [
    "btc_price_data_copy.isna().sum()"
   ]
  },
  {
   "cell_type": "code",
   "execution_count": 63,
   "metadata": {},
   "outputs": [
    {
     "ename": "TypeError",
     "evalue": "'method' object does not support item assignment",
     "output_type": "error",
     "traceback": [
      "\u001b[0;31m---------------------------------------------------------------------------\u001b[0m",
      "\u001b[0;31mTypeError\u001b[0m                                 Traceback (most recent call last)",
      "\u001b[1;32m/home/moises/Dropbox/Analise-exploratoria-blockchain-Bitcoin/teste.ipynb Célula 7\u001b[0m line \u001b[0;36m6\n\u001b[1;32m      <a href='vscode-notebook-cell:/home/moises/Dropbox/Analise-exploratoria-blockchain-Bitcoin/teste.ipynb#X20sZmlsZQ%3D%3D?line=2'>3</a>\u001b[0m btc_price_data[btc_price_data\u001b[39m.\u001b[39mindex \u001b[39m==\u001b[39m \u001b[39m\"\u001b[39m\u001b[39m2011-06-19\u001b[39m\u001b[39m\"\u001b[39m][\u001b[39m\"\u001b[39m\u001b[39mClose\u001b[39m\u001b[39m\"\u001b[39m]\u001b[39m.\u001b[39mvalues\n\u001b[1;32m      <a href='vscode-notebook-cell:/home/moises/Dropbox/Analise-exploratoria-blockchain-Bitcoin/teste.ipynb#X20sZmlsZQ%3D%3D?line=4'>5</a>\u001b[0m \u001b[39m#insert a value for all close values in the a dataframe\u001b[39;00m\n\u001b[0;32m----> <a href='vscode-notebook-cell:/home/moises/Dropbox/Analise-exploratoria-blockchain-Bitcoin/teste.ipynb#X20sZmlsZQ%3D%3D?line=5'>6</a>\u001b[0m a[\u001b[39m\"\u001b[39;49m\u001b[39mClose\u001b[39;49m\u001b[39m\"\u001b[39;49m] \u001b[39m=\u001b[39m btc_price_data[btc_price_data\u001b[39m.\u001b[39mindex \u001b[39m==\u001b[39m \u001b[39m\"\u001b[39m\u001b[39m2011-06-19\u001b[39m\u001b[39m\"\u001b[39m][\u001b[39m\"\u001b[39m\u001b[39mClose\u001b[39m\u001b[39m\"\u001b[39m]\u001b[39m.\u001b[39mvalues\n",
      "\u001b[0;31mTypeError\u001b[0m: 'method' object does not support item assignment"
     ]
    }
   ],
   "source": [
    "a = btc_price_data[btc_price_data[\"Close\"].isna()].copy\n",
    "\n",
    "btc_price_data[btc_price_data.index == \"2011-06-19\"][\"Close\"].values\n",
    "\n",
    "#insert a value for all close values in the a dataframe\n",
    "a[\"Close\"] = btc_price_data[btc_price_data.index == \"2011-06-19\"][\"Close\"].values\n"
   ]
  },
  {
   "cell_type": "code",
   "execution_count": 39,
   "metadata": {},
   "outputs": [
    {
     "data": {
      "text/html": [
       "<div>\n",
       "<style scoped>\n",
       "    .dataframe tbody tr th:only-of-type {\n",
       "        vertical-align: middle;\n",
       "    }\n",
       "\n",
       "    .dataframe tbody tr th {\n",
       "        vertical-align: top;\n",
       "    }\n",
       "\n",
       "    .dataframe thead th {\n",
       "        text-align: right;\n",
       "    }\n",
       "</style>\n",
       "<table border=\"1\" class=\"dataframe\">\n",
       "  <thead>\n",
       "    <tr style=\"text-align: right;\">\n",
       "      <th></th>\n",
       "      <th>Close</th>\n",
       "    </tr>\n",
       "    <tr>\n",
       "      <th>Date</th>\n",
       "      <th></th>\n",
       "    </tr>\n",
       "  </thead>\n",
       "  <tbody>\n",
       "    <tr>\n",
       "      <th>2009-01-09</th>\n",
       "      <td>0.000000</td>\n",
       "    </tr>\n",
       "    <tr>\n",
       "      <th>2009-01-10</th>\n",
       "      <td>0.000000</td>\n",
       "    </tr>\n",
       "    <tr>\n",
       "      <th>2009-01-11</th>\n",
       "      <td>0.000000</td>\n",
       "    </tr>\n",
       "    <tr>\n",
       "      <th>2009-01-12</th>\n",
       "      <td>0.000000</td>\n",
       "    </tr>\n",
       "    <tr>\n",
       "      <th>2009-01-13</th>\n",
       "      <td>0.000000</td>\n",
       "    </tr>\n",
       "    <tr>\n",
       "      <th>...</th>\n",
       "      <td>...</td>\n",
       "    </tr>\n",
       "    <tr>\n",
       "      <th>2023-07-27</th>\n",
       "      <td>29312.836826</td>\n",
       "    </tr>\n",
       "    <tr>\n",
       "      <th>2023-07-28</th>\n",
       "      <td>29358.839335</td>\n",
       "    </tr>\n",
       "    <tr>\n",
       "      <th>2023-07-29</th>\n",
       "      <td>29268.279610</td>\n",
       "    </tr>\n",
       "    <tr>\n",
       "      <th>2023-07-30</th>\n",
       "      <td>29223.472673</td>\n",
       "    </tr>\n",
       "    <tr>\n",
       "      <th>2023-07-31</th>\n",
       "      <td>29698.521370</td>\n",
       "    </tr>\n",
       "  </tbody>\n",
       "</table>\n",
       "<p>5317 rows × 1 columns</p>\n",
       "</div>"
      ],
      "text/plain": [
       "                   Close\n",
       "Date                    \n",
       "2009-01-09      0.000000\n",
       "2009-01-10      0.000000\n",
       "2009-01-11      0.000000\n",
       "2009-01-12      0.000000\n",
       "2009-01-13      0.000000\n",
       "...                  ...\n",
       "2023-07-27  29312.836826\n",
       "2023-07-28  29358.839335\n",
       "2023-07-29  29268.279610\n",
       "2023-07-30  29223.472673\n",
       "2023-07-31  29698.521370\n",
       "\n",
       "[5317 rows x 1 columns]"
      ]
     },
     "execution_count": 39,
     "metadata": {},
     "output_type": "execute_result"
    }
   ],
   "source": [
    "btc_price_data_copy"
   ]
  },
  {
   "cell_type": "code",
   "execution_count": 44,
   "metadata": {},
   "outputs": [],
   "source": [
    "#save csv file btc_price_data_copy as df_price_btc_usd_agregate.csv\n",
    "btc_price_data_copy.to_csv(\"/home/moises/Data_BTC_thesis/df_price_btc_usd_agregate_2.csv\")"
   ]
  },
  {
   "cell_type": "code",
   "execution_count": 19,
   "metadata": {},
   "outputs": [
    {
     "data": {
      "text/html": [
       "<div>\n",
       "<style scoped>\n",
       "    .dataframe tbody tr th:only-of-type {\n",
       "        vertical-align: middle;\n",
       "    }\n",
       "\n",
       "    .dataframe tbody tr th {\n",
       "        vertical-align: top;\n",
       "    }\n",
       "\n",
       "    .dataframe thead th {\n",
       "        text-align: right;\n",
       "    }\n",
       "</style>\n",
       "<table border=\"1\" class=\"dataframe\">\n",
       "  <thead>\n",
       "    <tr style=\"text-align: right;\">\n",
       "      <th></th>\n",
       "      <th>Close</th>\n",
       "    </tr>\n",
       "    <tr>\n",
       "      <th>Date</th>\n",
       "      <th></th>\n",
       "    </tr>\n",
       "  </thead>\n",
       "  <tbody>\n",
       "    <tr>\n",
       "      <th>2009-01-09</th>\n",
       "      <td>0.000000</td>\n",
       "    </tr>\n",
       "    <tr>\n",
       "      <th>2009-01-10</th>\n",
       "      <td>0.000000</td>\n",
       "    </tr>\n",
       "    <tr>\n",
       "      <th>2009-01-11</th>\n",
       "      <td>0.000000</td>\n",
       "    </tr>\n",
       "    <tr>\n",
       "      <th>2009-01-12</th>\n",
       "      <td>0.000000</td>\n",
       "    </tr>\n",
       "    <tr>\n",
       "      <th>2009-01-13</th>\n",
       "      <td>0.000000</td>\n",
       "    </tr>\n",
       "    <tr>\n",
       "      <th>...</th>\n",
       "      <td>...</td>\n",
       "    </tr>\n",
       "    <tr>\n",
       "      <th>2023-07-27</th>\n",
       "      <td>29312.836826</td>\n",
       "    </tr>\n",
       "    <tr>\n",
       "      <th>2023-07-28</th>\n",
       "      <td>29358.839335</td>\n",
       "    </tr>\n",
       "    <tr>\n",
       "      <th>2023-07-29</th>\n",
       "      <td>29268.279610</td>\n",
       "    </tr>\n",
       "    <tr>\n",
       "      <th>2023-07-30</th>\n",
       "      <td>29223.472673</td>\n",
       "    </tr>\n",
       "    <tr>\n",
       "      <th>2023-07-31</th>\n",
       "      <td>29698.521370</td>\n",
       "    </tr>\n",
       "  </tbody>\n",
       "</table>\n",
       "<p>5317 rows × 1 columns</p>\n",
       "</div>"
      ],
      "text/plain": [
       "                   Close\n",
       "Date                    \n",
       "2009-01-09      0.000000\n",
       "2009-01-10      0.000000\n",
       "2009-01-11      0.000000\n",
       "2009-01-12      0.000000\n",
       "2009-01-13      0.000000\n",
       "...                  ...\n",
       "2023-07-27  29312.836826\n",
       "2023-07-28  29358.839335\n",
       "2023-07-29  29268.279610\n",
       "2023-07-30  29223.472673\n",
       "2023-07-31  29698.521370\n",
       "\n",
       "[5317 rows x 1 columns]"
      ]
     },
     "execution_count": 19,
     "metadata": {},
     "output_type": "execute_result"
    }
   ],
   "source": [
    "close_series = btc_price_data_copy\n",
    "close_series"
   ]
  },
  {
   "cell_type": "code",
   "execution_count": 20,
   "metadata": {},
   "outputs": [
    {
     "name": "stdout",
     "output_type": "stream",
     "text": [
      "[0.99881025 0.99768697 0.99655367 0.99537189 0.99413688 0.99287606\n",
      " 0.9915693  0.99035422 0.98919476 0.98788989 0.98654363 0.98519189\n",
      " 0.98394623 0.98263786 0.98135674 0.98009948 0.97888197 0.97763504\n",
      " 0.9764006  0.97522248 0.97396373 0.97275359 0.97151893 0.97036401\n",
      " 0.96908941 0.96780794 0.96649817 0.96507541 0.96355369 0.96212761\n",
      " 0.96066495 0.95909378 0.95766088 0.95605219 0.95444346 0.95281416\n",
      " 0.95127457 0.9496265  0.94804693 0.94650662 0.94487951 0.94333882\n",
      " 0.9418621  0.94033985 0.9386783  0.93706755 0.93556242 0.93409543\n",
      " 0.93256531 0.93105895 0.92950962 0.92799723 0.92652142 0.92495432\n",
      " 0.92337065 0.92176348 0.92014346 0.91850203 0.91673001 0.91492229\n",
      " 0.91323767 0.91160382 0.90996392 0.90836514 0.90677061 0.90512217\n",
      " 0.90344626 0.90170234 0.89995404 0.89830958 0.89667671 0.89500782\n",
      " 0.89342541 0.89195385 0.89049422 0.88892537 0.88733746 0.88576749\n",
      " 0.88416473 0.88258669 0.88096584 0.87928886 0.87767545 0.87604771\n",
      " 0.87440677 0.87276282 0.87115567 0.8695124  0.86786432 0.86627823\n",
      " 0.86475443 0.86323914 0.86160046 0.86002461 0.85843169 0.85685752\n",
      " 0.85537519 0.85392769 0.85253246 0.8511995  0.84989799 0.84854022\n",
      " 0.8472309  0.84594913 0.8446788  0.84346324 0.84233957 0.84126003\n",
      " 0.84015398 0.83902744 0.83800857 0.83700212 0.83595955 0.83494747\n",
      " 0.83386004 0.83267349 0.83151822 0.83041564 0.82916099 0.82796822\n",
      " 0.82673643 0.82550383 0.82419768 0.82280998 0.82150136 0.82028151\n",
      " 0.81911917 0.81793607 0.81664867 0.81545382 0.81440719 0.8132911\n",
      " 0.81208166 0.81097197 0.809862   0.80880194 0.80779981 0.80684766\n",
      " 0.80593709 0.80509743 0.80428039 0.80345277 0.80265892 0.80195029\n",
      " 0.80128235 0.80058577 0.79980767 0.79904002 0.79827627 0.7975287\n",
      " 0.79681908 0.79611102 0.79540488 0.79476556 0.79419646 0.7936498\n",
      " 0.79306024 0.7924543  0.7917709  0.79093291 0.79012933 0.78930792\n",
      " 0.78847627 0.78767038 0.78689262 0.78611965 0.78534226 0.78449958\n",
      " 0.78367095 0.78290421 0.7821435  0.78132618 0.78042318 0.77952528\n",
      " 0.77868782 0.77780621 0.77695672 0.77606127 0.77524454 0.77444137\n",
      " 0.77368734 0.77289003 0.77209822 0.77132533 0.77054422 0.76971773\n",
      " 0.76883927 0.76794609 0.76712849 0.76621735 0.76530707 0.76437491\n",
      " 0.7634702  0.76247975 0.76152167 0.76058835 0.75961046 0.75866744\n",
      " 0.75768155 0.7566382  0.75569547 0.75476051 0.7538477  0.75295416\n",
      " 0.75204969 0.75120922 0.75031633 0.74937568 0.74838963 0.74736076\n",
      " 0.74637956 0.74544787 0.74445301 0.7434115  0.74236053 0.74126763\n",
      " 0.74015984 0.73903978 0.73793395 0.73682329 0.73578633 0.73478494\n",
      " 0.73384279 0.73287699 0.73189733 0.73096436 0.72992139 0.72889311\n",
      " 0.72790794 0.72685146 0.72571575 0.72455353 0.72337446 0.72216902\n",
      " 0.72096526 0.71975184 0.71854631 0.71733907 0.71611882 0.71487408\n",
      " 0.71348573 0.71198346 0.7105     0.70892742 0.70742426 0.7059791\n",
      " 0.70445662 0.70296513 0.70151038 0.70002965 0.69858591 0.69711712\n",
      " 0.69567234 0.69431171 0.69292373 0.6916006  0.69025248 0.68894258\n",
      " 0.68767935 0.68641857 0.68509786 0.68377634 0.68247551 0.68115828\n",
      " 0.67981585 0.67853338 0.67720166 0.67579581 0.67442703 0.67311694\n",
      " 0.67184106 0.67061924 0.66939787 0.66809671 0.66674515 0.66542646\n",
      " 0.66407925 0.66274975 0.66143447 0.66005202 0.65867196 0.6573129\n",
      " 0.65596572 0.65465261 0.65326682 0.6518785  0.65054767 0.64923868\n",
      " 0.64791025 0.64654308 0.64514138 0.64376307 0.64249503 0.6411641\n",
      " 0.63986966 0.63856122 0.63722445 0.6359442  0.63466383 0.63332499\n",
      " 0.63205468 0.63089245 0.62974307 0.62867047 0.62755145 0.62630013\n",
      " 0.62504241 0.62375265 0.62246764 0.62116123 0.61991058 0.61866691\n",
      " 0.61752363 0.61641256 0.61537136 0.61429596 0.61319759 0.61211814\n",
      " 0.61100002 0.60991601 0.60884874 0.60780302 0.60675617 0.60571005\n",
      " 0.60468188 0.60372231 0.60273291 0.6017632  0.60083851 0.59985942\n",
      " 0.59886751 0.59788285 0.59682948 0.59573745 0.59468217 0.59359658\n",
      " 0.59258164 0.59163491 0.59067886 0.58973181 0.58877719 0.58786953\n",
      " 0.58693768 0.58598219 0.58507255 0.58420163 0.58337585 0.58257299\n",
      " 0.58169592 0.58081418 0.57997891 0.57906994 0.57814872 0.57715674\n",
      " 0.57613524 0.57501927 0.57394818 0.57283977 0.57163206 0.57048472\n",
      " 0.56928564 0.568037   0.5667334  0.56543715 0.56409676 0.56283914\n",
      " 0.561586   0.56037783 0.55923267 0.5580883  0.55699379 0.55590693\n",
      " 0.55480383 0.55365073 0.55253215 0.5514218  0.55028733 0.54918094\n",
      " 0.54811469 0.54709226 0.54615117 0.5452054  0.54417781 0.5431872\n",
      " 0.542247   0.54129385 0.54026573 0.53924278 0.53817892 0.53718679\n",
      " 0.53618298 0.53520243 0.53427673 0.53337832 0.53252878 0.53165166\n",
      " 0.53077122 0.52982708 0.52885545 0.52787844 0.52691158 0.52593168\n",
      " 0.52489019 0.52392318 0.52296661 0.52203973 0.52109291 0.520138\n",
      " 0.51920066 0.51830414 0.5173547  0.51642651 0.5154782  0.51454486\n",
      " 0.51361419 0.51261369 0.51162472 0.51062058 0.5095917  0.50855975\n",
      " 0.50747776 0.50646088 0.50548967 0.50451814 0.5035525  0.50259056\n",
      " 0.50166921 0.50070113 0.49976484 0.49889575 0.49805551 0.49721512\n",
      " 0.49640895 0.4955766  0.49474073 0.49392204 0.49308371 0.49223992\n",
      " 0.49140587 0.49052139 0.48962136 0.48874414 0.48791834 0.48712075\n",
      " 0.48635662 0.48555852 0.48480031 0.48400185 0.48318415 0.48235443\n",
      " 0.48141716 0.48045141 0.47947064 0.47851235 0.47746194 0.47641641\n",
      " 0.47538891 0.47436432 0.47339603 0.4724853  0.47157097 0.47068016\n",
      " 0.46983808 0.46893999 0.46802716 0.46708759 0.46612282 0.46514374\n",
      " 0.4642048  0.46331611 0.46240146 0.46149378 0.46058465 0.45959522\n",
      " 0.45865018 0.45763262 0.45662604 0.45562126 0.45459196 0.45358036\n",
      " 0.45260207 0.45163247 0.4506823  0.44970864 0.44872396 0.44774478\n",
      " 0.4468186  0.4459431  0.44509532 0.44417308 0.44324734 0.44235362\n",
      " 0.44148525 0.44070261 0.43991955 0.43920265 0.43853158 0.43785221\n",
      " 0.43720525]\n"
     ]
    }
   ],
   "source": [
    "a = sm.tsa.stattools.ccf(close_series, close_series, adjusted=False)\n",
    "print(a[1:500]) "
   ]
  },
  {
   "cell_type": "code",
   "execution_count": 11,
   "metadata": {},
   "outputs": [
    {
     "data": {
      "text/plain": [
       "<Axes: >"
      ]
     },
     "execution_count": 11,
     "metadata": {},
     "output_type": "execute_result"
    },
    {
     "data": {
      "image/png": "[encoded data removed]",
      "text/plain": [
       "<Figure size 640x480 with 1 Axes>"
      ]
     },
     "metadata": {},
     "output_type": "display_data"
    }
   ],
   "source": [
    "b = pd.DataFrame(a)\n",
    "b.plot()"
   ]
  }
 ],
 "metadata": {
  "kernelspec": {
   "display_name": "research_btc",
   "language": "python",
   "name": "python3"
  },
  "language_info": {
   "codemirror_mode": {
    "name": "ipython",
    "version": 3
   },
   "file_extension": ".py",
   "mimetype": "text/x-python",
   "name": "python",
   "nbconvert_exporter": "python",
   "pygments_lexer": "ipython3",
   "version": "3.11.3"
  }
 },
 "nbformat": 4,
 "nbformat_minor": 2
}
