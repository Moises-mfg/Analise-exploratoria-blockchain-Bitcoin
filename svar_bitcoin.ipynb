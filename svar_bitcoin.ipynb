{
 "cells": [
  {
   "cell_type": "code",
   "execution_count": null,
   "metadata": {},
   "outputs": [],
   "source": [
    "import pandas as pd"
   ]
  },
  {
   "cell_type": "code",
   "execution_count": 26,
   "metadata": {},
   "outputs": [],
   "source": [
    "# read and load the csv files\n",
    "vol_bitfinex_by_supply_btc = pd.read_csv(\"light_data/vol_bitfinex_by_supply_btc.csv\")\n",
    "total_out_BTC_USD = pd.read_csv(\"light_data/total_out_BTC_USD.csv\")\n",
    "\n",
    "vol_bitfinex_by_supply_btc.rename(columns={\"Unnamed: 0\": \"Date\"}, inplace=True)\n",
    "total_out_BTC_USD.rename(columns={\"Unnamed: 0\": \"Date\"}, inplace=True)"
   ]
  },
  {
   "cell_type": "code",
   "execution_count": 32,
   "metadata": {},
   "outputs": [
    {
     "data": {
      "text/html": [
       "<div>\n",
       "<style scoped>\n",
       "    .dataframe tbody tr th:only-of-type {\n",
       "        vertical-align: middle;\n",
       "    }\n",
       "\n",
       "    .dataframe tbody tr th {\n",
       "        vertical-align: top;\n",
       "    }\n",
       "\n",
       "    .dataframe thead th {\n",
       "        text-align: right;\n",
       "    }\n",
       "</style>\n",
       "<table border=\"1\" class=\"dataframe\">\n",
       "  <thead>\n",
       "    <tr style=\"text-align: right;\">\n",
       "      <th></th>\n",
       "      <th>Date</th>\n",
       "      <th>total_out_BTC_usd</th>\n",
       "    </tr>\n",
       "  </thead>\n",
       "  <tbody>\n",
       "    <tr>\n",
       "      <th>0</th>\n",
       "      <td>2013-03-31</td>\n",
       "      <td>8.506092e+05</td>\n",
       "    </tr>\n",
       "    <tr>\n",
       "      <th>1</th>\n",
       "      <td>2013-04-01</td>\n",
       "      <td>7.348477e+05</td>\n",
       "    </tr>\n",
       "    <tr>\n",
       "      <th>2</th>\n",
       "      <td>2013-04-02</td>\n",
       "      <td>1.545441e+06</td>\n",
       "    </tr>\n",
       "    <tr>\n",
       "      <th>3</th>\n",
       "      <td>2013-04-03</td>\n",
       "      <td>1.737993e+06</td>\n",
       "    </tr>\n",
       "    <tr>\n",
       "      <th>4</th>\n",
       "      <td>2013-04-04</td>\n",
       "      <td>1.967458e+06</td>\n",
       "    </tr>\n",
       "    <tr>\n",
       "      <th>...</th>\n",
       "      <td>...</td>\n",
       "      <td>...</td>\n",
       "    </tr>\n",
       "    <tr>\n",
       "      <th>3754</th>\n",
       "      <td>2023-07-11</td>\n",
       "      <td>1.835730e+08</td>\n",
       "    </tr>\n",
       "    <tr>\n",
       "      <th>3755</th>\n",
       "      <td>2023-07-12</td>\n",
       "      <td>1.975522e+08</td>\n",
       "    </tr>\n",
       "    <tr>\n",
       "      <th>3756</th>\n",
       "      <td>2023-07-13</td>\n",
       "      <td>2.349778e+08</td>\n",
       "    </tr>\n",
       "    <tr>\n",
       "      <th>3757</th>\n",
       "      <td>2023-07-14</td>\n",
       "      <td>2.077230e+08</td>\n",
       "    </tr>\n",
       "    <tr>\n",
       "      <th>3758</th>\n",
       "      <td>2023-07-15</td>\n",
       "      <td>1.491621e+08</td>\n",
       "    </tr>\n",
       "  </tbody>\n",
       "</table>\n",
       "<p>3759 rows × 2 columns</p>\n",
       "</div>"
      ],
      "text/plain": [
       "            Date  total_out_BTC_usd\n",
       "0     2013-03-31       8.506092e+05\n",
       "1     2013-04-01       7.348477e+05\n",
       "2     2013-04-02       1.545441e+06\n",
       "3     2013-04-03       1.737993e+06\n",
       "4     2013-04-04       1.967458e+06\n",
       "...          ...                ...\n",
       "3754  2023-07-11       1.835730e+08\n",
       "3755  2023-07-12       1.975522e+08\n",
       "3756  2023-07-13       2.349778e+08\n",
       "3757  2023-07-14       2.077230e+08\n",
       "3758  2023-07-15       1.491621e+08\n",
       "\n",
       "[3759 rows x 2 columns]"
      ]
     },
     "execution_count": 32,
     "metadata": {},
     "output_type": "execute_result"
    }
   ],
   "source": [
    "vol_bitfinex_by_supply_btc\n",
    "total_out_BTC_USD"
   ]
  }
 ],
 "metadata": {
  "kernelspec": {
   "display_name": "research_btc",
   "language": "python",
   "name": "python3"
  },
  "language_info": {
   "name": "python",
   "version": "3.11.3"
  }
 },
 "nbformat": 4,
 "nbformat_minor": 2
}
