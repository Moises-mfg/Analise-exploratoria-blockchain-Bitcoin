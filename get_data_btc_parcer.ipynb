{
 "cells": [
  {
   "cell_type": "code",
   "execution_count": 1,
   "metadata": {},
   "outputs": [
    {
     "name": "stdout",
     "output_type": "stream",
     "text": [
      "tx=4a5e1e4baab89f3a32518a88c31bc87f618f76673e2cc77ab2127b7afdeda33b outputno=0 type=pubkey value=5000000000\n",
      "tx=0e3e2357e806b6cdb1f70b54c3a3a17b6714ee1f0e68bebb44a74b1efd512098 outputno=0 type=pubkey value=5000000000\n",
      "tx=9b0fc92260312ce44e74ef369f5c66bbb85848f2eddd5a7a1cde251e54ccfdd5 outputno=0 type=pubkey value=5000000000\n",
      "tx=999e1c837c76a1b7fbb7e57baf87b309960f5ffefbf2a9b95dd890602272f644 outputno=0 type=pubkey value=5000000000\n",
      "tx=df2b060fa2e5e9c8ed5eaf6a45c13753ec8c63282b2688322eba40cd98ea067a outputno=0 type=pubkey value=5000000000\n",
      "tx=63522845d294ee9b0188ae5cac91bf389a0c3723f084ca1025e7d9cdfe481ce1 outputno=0 type=pubkey value=5000000000\n",
      "tx=20251a76e64e920e58291a30d4b212939aae976baca40e70818ceaa596fb9d37 outputno=0 type=pubkey value=5000000000\n",
      "tx=8aa673bc752f2851fd645d6a0a92917e967083007d9c1684f9423b100540673f outputno=0 type=pubkey value=5000000000\n",
      "tx=a6f7f1c0dad0f2eb6b13c4f33de664b1b0e9f22efad5994a6d5b6086d85e85e3 outputno=0 type=pubkey value=5000000000\n",
      "tx=0437cd7f8525ceed2324359c2d0ba26006d92d856a9c20fa0241106ee5a597c9 outputno=0 type=pubkey value=5000000000\n",
      "tx=d3ad39fa52a89997ac7381c95eeffeaf40b66af7a57e9eba144be0a175a12b11 outputno=0 type=pubkey value=5000000000\n",
      "tx=f8325d8f7fa5d658ea143629288d0530d2710dc9193ddc067439de803c37066e outputno=0 type=pubkey value=5000000000\n",
      "tx=3b96bb7e197ef276b85131afd4a09c059cc368133a26ca04ebffb0ab4f75c8b8 outputno=0 type=pubkey value=5000000000\n",
      "tx=9962d5c704ec27243364cbe9d384808feeac1c15c35ac790dffd1e929829b271 outputno=0 type=pubkey value=5000000000\n",
      "tx=e1afd89295b68bc5247fe0ca2885dd4b8818d7ce430faa615067d7bab8640156 outputno=0 type=pubkey value=5000000000\n",
      "tx=50748b7a193a0b23f1e9494b51131d2f954cc6cf4792bacc69d207d16002080d outputno=0 type=pubkey value=5000000000\n",
      "tx=e79fc1dad370e628614702f048edc8e98829cf8ea8f6615db19f992b1be92e44 outputno=0 type=pubkey value=5000000000\n",
      "tx=a3e0b7558e67f5cadd4a3166912cbf6f930044124358ef3a9afd885ac391625d outputno=0 type=pubkey value=5000000000\n",
      "tx=f925f26deb2dc4696be8782ab7ad9493d04721b28ee69a09d7dfca51b863ca23 outputno=0 type=pubkey value=5000000000\n",
      "tx=9b9e461221e5284f3bfe5656efdc8c7cc633b2f1beef54a86316bf2ae3a3e230 outputno=0 type=pubkey value=5000000000\n",
      "tx=ee1afca2d1130676503a6db5d6a77075b2bf71382cfdf99231f89717b5257b5b outputno=0 type=pubkey value=5000000000\n",
      "tx=e0175970efb4417950921bfcba2a3a1e88c007c21232ff706009cc70b89210b4 outputno=0 type=pubkey value=5000000000\n",
      "tx=9e2eaf1d7e5178a2d116f331c340f1f7fd6de7540783ac36a7054fe9a4d64943 outputno=0 type=pubkey value=5000000000\n",
      "tx=e1cf3476234d8446653ad52a8939ed792003eefdcd0e897319ab9d2cb4c14c8c outputno=0 type=pubkey value=5000000000\n",
      "tx=43c39b8b3728c6cb26fae0fc18803ca6cf43e15fde218e3dfbd54e633cf6753e outputno=0 type=pubkey value=5000000000\n",
      "tx=9b0f52332d7d013b49016416c4818b5abb80b01ca526b7b813830348ad2321be outputno=0 type=pubkey value=5000000000\n",
      "tx=67c1e8143bb6ad221a4ce77d6c8be68f2e25e0743f51b2db1a7b22bab59014dc outputno=0 type=pubkey value=5000000000\n",
      "tx=230cf03a6ce420eaa42e3c64feebb47920f3470efb4323b4574b4b6e5a004f65 outputno=0 type=pubkey value=5000000000\n",
      "tx=f399cb6c5bed7bb36d44f361c29dd5ecf12deba163470d8835b7ba0c4ed8aebd outputno=0 type=pubkey value=5000000000\n",
      "tx=c361e2f4581f035dd58b99788347884e046e47b4c17ec347344ff8b24cd377ec outputno=0 type=pubkey value=5000000000\n",
      "tx=f5e26c8b82401c585235c572ba8265f16f7d9304ed8e31c198eab571754f5331 outputno=0 type=pubkey value=5000000000\n",
      "tx=86b33edba8ff663b0f73ef487e4433f34d26ef91de15659d2cc09594d27b52cb outputno=0 type=pubkey value=5000000000\n",
      "tx=2b9905f06583c01454f10f720b5709e3b667c9dd3d9efc423c97b7e70afdc0c9 outputno=0 type=pubkey value=5000000000\n",
      "tx=bdeaa0089cd84670da5e6385f0185c2d7978bf57a1aa5540d3ff3b3eabaa1210 outputno=0 type=pubkey value=5000000000\n",
      "tx=223b0620a8f1c1f23a2ebf8032ed11321b921017d01974e74cddd651319b5474 outputno=0 type=pubkey value=5000000000\n",
      "tx=852b1997ed935ba638078998e2d15bc8a91b8ad232e2d988e22c969eba3bafe0 outputno=0 type=pubkey value=5000000000\n",
      "tx=d05d256fbd5845b30039e37d48215788a4e438249048c47ddb9c83cd927d4d5a outputno=0 type=pubkey value=5000000000\n",
      "tx=6d344eb5d67ed329a1c1d7603bba4b85d5916435b49f7a585bb370b76820287d outputno=0 type=pubkey value=5000000000\n",
      "tx=e690daeb9f73d29d8a22cb4b5ec29970e9b32283d4376adeaad8691ccb449a68 outputno=0 type=pubkey value=5000000000\n",
      "tx=1484c18ba443b13851098597d8cb6d49d5983eab63c53d6b0dcc565612e7ca6b outputno=0 type=pubkey value=5000000000\n",
      "tx=04391286b3aefbb5df4cdb515ac7fce7942525fa602e1d7757e90a4fd41a1e20 outputno=0 type=pubkey value=5000000000\n",
      "tx=9efa6cb3b8cca3c9387144f397f80e7b4bc2dd86026fdd308625a2e100a08d5a outputno=0 type=pubkey value=5000000000\n",
      "tx=27c4d937dca276fb2b61e579902e8a876fd5b5abc17590410ced02d5a9f8e483 outputno=0 type=pubkey value=5000000000\n",
      "tx=2f5c03ce19e9a855ac93087a1b68fe6592bcf4bd7cbb9c1ef264d886a785894e outputno=0 type=pubkey value=5000000000\n",
      "tx=439aee1e1aa6923ad61c1990459f88de1faa3e18b4ee125f99b94b82e1e0af5f outputno=0 type=pubkey value=5000000000\n",
      "tx=f69778085f1e78a1ea1cfcfe3b61ffb5c99870f5ae382e41ec43cf165d66a6d9 outputno=0 type=pubkey value=5000000000\n",
      "tx=ddd4d06365155ab4caaaee552fb3d8643207bd06efe14f920698a6dd4eb22ffa outputno=0 type=pubkey value=5000000000\n",
      "tx=d17b9c9c609309049dfb9005edd7011f02d7875ca7dab6effddf4648bb70eff6 outputno=0 type=pubkey value=5000000000\n",
      "tx=32edede0b7d0c37340a665de057f418df634452f6bb80dcb8a5ff0aeddf1158a outputno=0 type=pubkey value=5000000000\n",
      "tx=194c9715279d8626bc66f2b6552f2ae67b3df3a00b88553245b12bffffad5b59 outputno=0 type=pubkey value=5000000000\n",
      "tx=540a7e54fd64478554519f1b2d643ecc888c5030631487f9cfc530b71d281309 outputno=0 type=pubkey value=5000000000\n",
      "tx=a09c89d2a31440658a42ec97aeee0d36b01529e45b315922e2aa2955334d1821 outputno=0 type=pubkey value=5000000000\n",
      "tx=b3f978e6ee5e91662af30a634b3f3268c6f5d34aac1eb54e6cc9535026f5084f outputno=0 type=pubkey value=5000000000\n",
      "tx=3c6f58905f06a9fe9b4313a88827c43dbfb0156fcc3b17bb311d51e8be6746f5 outputno=0 type=pubkey value=5000000000\n",
      "tx=d3dc9be5d58809579e56cdd64e78257ecd24e2726cf26ef0a698f4e5c07670b5 outputno=0 type=pubkey value=5000000000\n",
      "tx=19521c62482ac299b37c8ae4eab67abd150e3c21dc66b7e2b0919444769ee2ed outputno=0 type=pubkey value=5000000000\n",
      "tx=fe9ccc6c8b44c67ab170135d4148d6424e748f7549547d8174d59b5127df0102 outputno=0 type=pubkey value=5000000000\n",
      "tx=bc0f0f8b3235421a036122299db7046a00c3a7cd1d650de3d92969780b873728 outputno=0 type=pubkey value=5000000000\n",
      "tx=9635054e3de101ea39dcfa5f4cec63ceb1205db6e0a99304c8db2b3a162137e4 outputno=0 type=pubkey value=5000000000\n",
      "tx=3c0db11484606a63b04ef4b8adcd665655939d3932ab1ebe90d1dfc5f077ca95 outputno=0 type=pubkey value=5000000000\n",
      "tx=82a1e1731a9b22fdea55c09f2fac191a89efee127956fcfef65caab70f54002d outputno=0 type=pubkey value=5000000000\n",
      "tx=41b48c64cba68c21e0b7b37f589408823f112bb7cbccef4aece29df25347ffb4 outputno=0 type=pubkey value=5000000000\n",
      "tx=d472546c5171ea73bc9000f2994f069631c7706f5e922e2fe5f8e50e0402bed6 outputno=0 type=pubkey value=5000000000\n",
      "tx=382501ac2d50c5944465c2c316dbe2c70f23dd0de73ea86d339ea5f2bca7b648 outputno=0 type=pubkey value=5000000000\n",
      "tx=47c981c4193d62d9d33b59fe1a6de9c27ff78d9f9003325b61e686a720673626 outputno=0 type=pubkey value=5000000000\n",
      "tx=b5015619429af022efa69e0401891a92533b1852f214b68504c2e435a8cb7d0e outputno=0 type=pubkey value=5000000000\n",
      "tx=ae6eedf8e47ac6dda10ca9f3334bd3031795c55a124948003acd944ebd31fee1 outputno=0 type=pubkey value=5000000000\n",
      "tx=701ce76c033e0b03fa79503770a5874840373e30cd9c1eca472ec66617f3a3ee outputno=0 type=pubkey value=5000000000\n",
      "tx=7ea1d2304f1f95fae773ed8ef67b51cfd5ab33ea8b6ab0a932ee3e248b7ba74c outputno=0 type=pubkey value=5000000000\n",
      "tx=fb9967077804b9a4b7f5c80f7d8c567639cc14b17955da27c10b9947ddbd1825 outputno=0 type=pubkey value=5000000000\n",
      "tx=5ed287fa7b07229b53b15c6ad95ab49c1c222aa0fcfa2dd6603fa8492fae54c6 outputno=0 type=pubkey value=5000000000\n",
      "tx=5c4c653395879f5992949b3e28bb0be7b27d49e9e11d64899c5de30928d4ad99 outputno=0 type=pubkey value=5000000000\n",
      "tx=81fb4b1430e5c2cdee38be1a147c45fe23b38bbad0375ff67dc64450844445be outputno=0 type=pubkey value=5000000000\n",
      "tx=561eebc615218a12a9588ac78dde63aa56f3b1b43eb17174d2f093d1e2d1ca73 outputno=0 type=pubkey value=5000000000\n",
      "tx=9a3d8485cde248ab7dcea68c5a8539498ecb8ad337f2574fc2143d2f644b2e1d outputno=0 type=pubkey value=5000000000\n",
      "tx=c39bde3039372f835ca96f15d5f38df585fac24a316d28cb5febae7c4af15cb4 outputno=0 type=pubkey value=5000000000\n",
      "tx=12272d79ff1fbc1238d78d7d6e0e75c5f0e7aae7925e4f59b96b02fc2cd82bfc outputno=0 type=pubkey value=5000000000\n",
      "tx=edb7b78f88263e5c47717ee0761131683e85cc31beeac9a98554917c30686440 outputno=0 type=pubkey value=5000000000\n",
      "tx=797556eb999f8fdfd8198dd9ea80723409a359ddcd75c4a54a511970745812f0 outputno=0 type=pubkey value=5000000000\n",
      "tx=c184c93d7494f4096e9e9cb420f7d74c79c4ffd2806d68ff03bb7633bbf21d67 outputno=0 type=pubkey value=5000000000\n",
      "tx=81b896b98663fb6238c9643545eba3a1b32933f96e1a33d122efed5ab7165f2d outputno=0 type=pubkey value=5000000000\n",
      "tx=71cbe112176d6dc40490dde588798bd75de80133438016a0c05754d74ee1925a outputno=0 type=pubkey value=5000000000\n",
      "tx=3226a75aaf23565ab1f4b4d3cf7f945e188b1ef35d14bba50bd3ee05df985490 outputno=0 type=pubkey value=5000000000\n",
      "tx=8f2cd8d8c2b4ac9162cd8fb11856982ca1bb33898d19f6b50d8361b1318b7dc0 outputno=0 type=pubkey value=5000000000\n",
      "tx=b0a8291efa1dcd99cf58b5216c4105283b9a482b2f2d821ce00a52ced4908444 outputno=0 type=pubkey value=5000000000\n",
      "tx=0731f33cf07a2e5f749a2910c437a015968e1fc2ed79c95634829167db280c4f outputno=0 type=pubkey value=5000000000\n",
      "tx=73a4ce71aab2077ce17239c9f31922571e703a26d2c212daffae2bb15bb898ba outputno=0 type=pubkey value=5000000000\n",
      "tx=9d16f495beba16b70e05682c6e8dacf34e832db1dbc8b05c2c3bdae7effd0642 outputno=0 type=pubkey value=5000000000\n",
      "tx=70b8b6b9f6b4989ad63a19001c311c141dbb6ecdd060c56ae4f05bb507f95836 outputno=0 type=pubkey value=5000000000\n",
      "tx=3f44efc23687edae461827db9545731ec7232b1d681f1562911a25c0159e3539 outputno=0 type=pubkey value=5000000000\n",
      "tx=ebdb8335d5b148e9cc1b1bb795ee619a649bd1638e5514fdfc3004b1c56fd6a4 outputno=0 type=pubkey value=5000000000\n",
      "tx=97e5c5228b572e1be5e91e0cf04784757a293a5efe2788df42868d5cc12a2382 outputno=0 type=pubkey value=5000000000\n",
      "tx=202b784e7fcbb28b28906a80d0b65a97cea04db8e34d26596efa55f8806a9402 outputno=0 type=pubkey value=5000000000\n",
      "tx=a3007f3f43250476e47d2326dff86155f219294467da4e9e66a168abfab4b230 outputno=0 type=pubkey value=5000000000\n",
      "tx=abde5e83fc1973fd042c56c8cb41b6c739f3e50678d1fa2f99f0a409e4aa80c7 outputno=0 type=pubkey value=5000000000\n",
      "tx=e7a3e246c6f2d582b089d7d6c2f925e8aae46ef0c0ce97d3dd3afe3016a44e97 outputno=0 type=pubkey value=5000000000\n",
      "tx=b944ef8c77f9b5f4a4276880f17256988bba4d0125abc54391548061a688ae09 outputno=0 type=pubkey value=5000000000\n",
      "tx=611b40973fe68cc42b70ae5af365a449af458d76086415c6fa6c45364c36278e outputno=0 type=pubkey value=5000000000\n",
      "tx=0d4fe37aeb52ff6c01f119fe0cd42ee8f2366d9bf55c50ba8fe52e760dcbc96a outputno=0 type=pubkey value=5000000000\n",
      "tx=28614aedbf551e1e4c0ba85cfae326a0b17c7fe0812a7e814d8612d9936e19c8 outputno=0 type=pubkey value=5000000000\n",
      "tx=0a4820413c11c1b9d28bff885a155da7ed1fcaf784d22f5b46796e2c4e83ace1 outputno=0 type=pubkey value=5000000000\n"
     ]
    }
   ],
   "source": [
    "import os\n",
    "from blockchain_parser.blockchain import Blockchain\n",
    "\n",
    "# Instantiate the Blockchain by giving the path to the directory\n",
    "# containing the .blk files created by bitcoind\n",
    "blockchain = Blockchain(os.path.expanduser('/media/moises/0C23-BFE3/Bitcoin core arquivos/.bitcoin/blocks'))\n",
    "for i,block in enumerate(blockchain.get_unordered_blocks()):\n",
    "    if i >100:\n",
    "        break\n",
    "    for tx in block.transactions:\n",
    "        for no, output in enumerate(tx.outputs):\n",
    "            print(\"tx=%s outputno=%d type=%s value=%s\" % (tx.hash, no, output.type, output.value))\n",
    "\n",
    "    "
   ]
  },
  {
   "cell_type": "code",
   "execution_count": 5,
   "metadata": {},
   "outputs": [
    {
     "data": {
      "text/plain": [
       "['__class__',\n",
       " '__delattr__',\n",
       " '__dict__',\n",
       " '__dir__',\n",
       " '__doc__',\n",
       " '__eq__',\n",
       " '__format__',\n",
       " '__ge__',\n",
       " '__getattribute__',\n",
       " '__gt__',\n",
       " '__hash__',\n",
       " '__init__',\n",
       " '__init_subclass__',\n",
       " '__le__',\n",
       " '__lt__',\n",
       " '__module__',\n",
       " '__ne__',\n",
       " '__new__',\n",
       " '__reduce__',\n",
       " '__reduce_ex__',\n",
       " '__repr__',\n",
       " '__setattr__',\n",
       " '__sizeof__',\n",
       " '__str__',\n",
       " '__subclasshook__',\n",
       " '__weakref__',\n",
       " '_addresses',\n",
       " '_script',\n",
       " '_script_hex',\n",
       " '_value',\n",
       " '_value_hex',\n",
       " 'addresses',\n",
       " 'from_hex',\n",
       " 'is_multisig',\n",
       " 'is_p2sh',\n",
       " 'is_p2wpkh',\n",
       " 'is_p2wsh',\n",
       " 'is_pubkey',\n",
       " 'is_pubkeyhash',\n",
       " 'is_return',\n",
       " 'is_unknown',\n",
       " 'script',\n",
       " 'size',\n",
       " 'type',\n",
       " 'value']"
      ]
     },
     "execution_count": 5,
     "metadata": {},
     "output_type": "execute_result"
    }
   ],
   "source": [
    "# get all the atributes output has\n",
    "dir(output)\n"
   ]
  },
  {
   "cell_type": "code",
   "execution_count": 9,
   "metadata": {},
   "outputs": [
    {
     "data": {
      "text/plain": [
       "[Address(addr=15kHBARv1ZaCrmyExVUn6Uh7wnJVXveF8A)]"
      ]
     },
     "execution_count": 9,
     "metadata": {},
     "output_type": "execute_result"
    }
   ],
   "source": [
    "output.addresses"
   ]
  },
  {
   "cell_type": "code",
   "execution_count": 1,
   "metadata": {},
   "outputs": [
    {
     "ename": "Error",
     "evalue": "b'NotFound: --ip=127.0.0.1/index/LOCK: No such file or directory'",
     "output_type": "error",
     "traceback": [
      "\u001b[0;31m---------------------------------------------------------------------------\u001b[0m",
      "\u001b[0;31mError\u001b[0m                                     Traceback (most recent call last)",
      "\u001b[0;32m/tmp/ipykernel_361656/1155234915.py\u001b[0m in \u001b[0;36m<module>\u001b[0;34m\u001b[0m\n\u001b[1;32m     10\u001b[0m \u001b[0;31m# `index` directory (LevelDB index) being maintained by bitcoind. It contains\u001b[0m\u001b[0;34m\u001b[0m\u001b[0;34m\u001b[0m\u001b[0;34m\u001b[0m\u001b[0m\n\u001b[1;32m     11\u001b[0m \u001b[0;31m# .ldb files and is present inside the `blocks` directory\u001b[0m\u001b[0;34m\u001b[0m\u001b[0;34m\u001b[0m\u001b[0;34m\u001b[0m\u001b[0m\n\u001b[0;32m---> 12\u001b[0;31m \u001b[0;32mfor\u001b[0m \u001b[0mblock\u001b[0m \u001b[0;32min\u001b[0m \u001b[0mblockchain\u001b[0m\u001b[0;34m.\u001b[0m\u001b[0mget_ordered_blocks\u001b[0m\u001b[0;34m(\u001b[0m\u001b[0msys\u001b[0m\u001b[0;34m.\u001b[0m\u001b[0margv\u001b[0m\u001b[0;34m[\u001b[0m\u001b[0;36m1\u001b[0m\u001b[0;34m]\u001b[0m \u001b[0;34m+\u001b[0m \u001b[0;34m'/index'\u001b[0m\u001b[0;34m,\u001b[0m \u001b[0mend\u001b[0m\u001b[0;34m=\u001b[0m\u001b[0;36m1000\u001b[0m\u001b[0;34m)\u001b[0m\u001b[0;34m:\u001b[0m\u001b[0;34m\u001b[0m\u001b[0;34m\u001b[0m\u001b[0m\n\u001b[0m\u001b[1;32m     13\u001b[0m     \u001b[0mprint\u001b[0m\u001b[0;34m(\u001b[0m\u001b[0;34m\"height=%d block=%s\"\u001b[0m \u001b[0;34m%\u001b[0m \u001b[0;34m(\u001b[0m\u001b[0mblock\u001b[0m\u001b[0;34m.\u001b[0m\u001b[0mheight\u001b[0m\u001b[0;34m,\u001b[0m \u001b[0mblock\u001b[0m\u001b[0;34m.\u001b[0m\u001b[0mhash\u001b[0m\u001b[0;34m)\u001b[0m\u001b[0;34m)\u001b[0m\u001b[0;34m\u001b[0m\u001b[0;34m\u001b[0m\u001b[0m\n",
      "\u001b[0;32m~/python-bitcoin-blockchain-parser/blockchain_parser/blockchain.py\u001b[0m in \u001b[0;36mget_ordered_blocks\u001b[0;34m(self, index, start, end, cache)\u001b[0m\n\u001b[1;32m    167\u001b[0m         \u001b[0;32mif\u001b[0m \u001b[0mblockIndexes\u001b[0m \u001b[0;32mis\u001b[0m \u001b[0;32mNone\u001b[0m\u001b[0;34m:\u001b[0m\u001b[0;34m\u001b[0m\u001b[0;34m\u001b[0m\u001b[0m\n\u001b[1;32m    168\u001b[0m             \u001b[0;31m# build the block index\u001b[0m\u001b[0;34m\u001b[0m\u001b[0;34m\u001b[0m\u001b[0;34m\u001b[0m\u001b[0m\n\u001b[0;32m--> 169\u001b[0;31m             \u001b[0mblockIndexes\u001b[0m \u001b[0;34m=\u001b[0m \u001b[0mself\u001b[0m\u001b[0;34m.\u001b[0m\u001b[0m__getBlockIndexes\u001b[0m\u001b[0;34m(\u001b[0m\u001b[0mindex\u001b[0m\u001b[0;34m)\u001b[0m\u001b[0;34m\u001b[0m\u001b[0;34m\u001b[0m\u001b[0m\n\u001b[0m\u001b[1;32m    170\u001b[0m             \u001b[0;32mif\u001b[0m \u001b[0mcache\u001b[0m \u001b[0;32mand\u001b[0m \u001b[0;32mnot\u001b[0m \u001b[0mos\u001b[0m\u001b[0;34m.\u001b[0m\u001b[0mpath\u001b[0m\u001b[0;34m.\u001b[0m\u001b[0mexists\u001b[0m\u001b[0;34m(\u001b[0m\u001b[0mcache\u001b[0m\u001b[0;34m)\u001b[0m\u001b[0;34m:\u001b[0m\u001b[0;34m\u001b[0m\u001b[0;34m\u001b[0m\u001b[0m\n\u001b[1;32m    171\u001b[0m                 \u001b[0;31m# cache the block index for re-use next time\u001b[0m\u001b[0;34m\u001b[0m\u001b[0;34m\u001b[0m\u001b[0;34m\u001b[0m\u001b[0m\n",
      "\u001b[0;32m~/python-bitcoin-blockchain-parser/blockchain_parser/blockchain.py\u001b[0m in \u001b[0;36m__getBlockIndexes\u001b[0;34m(self, index)\u001b[0m\n\u001b[1;32m    103\u001b[0m         \"\"\"\n\u001b[1;32m    104\u001b[0m         \u001b[0;32mif\u001b[0m \u001b[0mself\u001b[0m\u001b[0;34m.\u001b[0m\u001b[0mindexPath\u001b[0m \u001b[0;34m!=\u001b[0m \u001b[0mindex\u001b[0m\u001b[0;34m:\u001b[0m\u001b[0;34m\u001b[0m\u001b[0;34m\u001b[0m\u001b[0m\n\u001b[0;32m--> 105\u001b[0;31m             \u001b[0mdb\u001b[0m \u001b[0;34m=\u001b[0m \u001b[0mplyvel\u001b[0m\u001b[0;34m.\u001b[0m\u001b[0mDB\u001b[0m\u001b[0;34m(\u001b[0m\u001b[0mindex\u001b[0m\u001b[0;34m,\u001b[0m \u001b[0mcompression\u001b[0m\u001b[0;34m=\u001b[0m\u001b[0;32mNone\u001b[0m\u001b[0;34m)\u001b[0m\u001b[0;34m\u001b[0m\u001b[0;34m\u001b[0m\u001b[0m\n\u001b[0m\u001b[1;32m    106\u001b[0m             self.blockIndexes = [DBBlockIndex(format_hash(k[1:]), v)\n\u001b[1;32m    107\u001b[0m                                  for k, v in db.iterator() if k[0] == ord('b')]\n",
      "\u001b[0;32mplyvel/_plyvel.pyx\u001b[0m in \u001b[0;36mplyvel._plyvel.DB.__init__\u001b[0;34m()\u001b[0m\n",
      "\u001b[0;32mplyvel/_plyvel.pyx\u001b[0m in \u001b[0;36mplyvel._plyvel.raise_for_status\u001b[0;34m()\u001b[0m\n",
      "\u001b[0;31mError\u001b[0m: b'NotFound: --ip=127.0.0.1/index/LOCK: No such file or directory'"
     ]
    }
   ],
   "source": [
    "import sys\n",
    "sys.path.append('/media/moises/0C23-BFE3/Bitcoin core arquivos/.bitcoin/blocks')\n",
    "from blockchain_parser.blockchain import Blockchain\n",
    "\n",
    "# Instantiate the Blockchain by giving the path to the directory \n",
    "# containing the .blk files created by bitcoind\n",
    "blockchain = Blockchain(sys.argv[1])\n",
    "\n",
    "# To get the blocks ordered by height, you need to provide the path of the\n",
    "# `index` directory (LevelDB index) being maintained by bitcoind. It contains\n",
    "# .ldb files and is present inside the `blocks` directory\n",
    "for block in blockchain.get_ordered_blocks(sys.argv[1] + '/index', end=1000):\n",
    "    print(\"height=%d block=%s\" % (block.height, block.hash))"
   ]
  }
 ],
 "metadata": {
  "kernelspec": {
   "display_name": "bitcoin",
   "language": "python",
   "name": "python3"
  },
  "language_info": {
   "codemirror_mode": {
    "name": "ipython",
    "version": 3
   },
   "file_extension": ".py",
   "mimetype": "text/x-python",
   "name": "python",
   "nbconvert_exporter": "python",
   "pygments_lexer": "ipython3",
   "version": "3.7.6"
  },
  "orig_nbformat": 4
 },
 "nbformat": 4,
 "nbformat_minor": 2
}
