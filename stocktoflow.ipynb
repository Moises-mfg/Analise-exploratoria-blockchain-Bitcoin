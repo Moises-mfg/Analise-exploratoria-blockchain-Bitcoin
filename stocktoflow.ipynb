{
 "cells": [
  {
   "cell_type": "code",
   "execution_count": 1,
   "metadata": {},
   "outputs": [],
   "source": [
    "from bitcoinrpc.authproxy import AuthServiceProxy, JSONRPCException\n",
    "import sqlite3\n",
    "import pandas as pd"
   ]
  },
  {
   "cell_type": "code",
   "execution_count": 2,
   "metadata": {},
   "outputs": [],
   "source": [
    "rpc_connection = AuthServiceProxy(\"http://%s:%s@127.0.0.1:8332\"%(\"moises\", \"moises123\"),timeout=100000)\n",
    "#num_blocks = rpc_connection.getblockcount()\n",
    "#num_blocks"
   ]
  },
  {
   "cell_type": "code",
   "execution_count": 3,
   "metadata": {},
   "outputs": [],
   "source": [
    "chunk_size = 1000\n",
    "#chunks = int(num_blocks/chunk_size)\n",
    "#chunks"
   ]
  },
  {
   "cell_type": "code",
   "execution_count": 4,
   "metadata": {},
   "outputs": [],
   "source": [
    "# Pega os primeiros dados da blockchain do bitcoin e envia para uma base de dados sql\n",
    "# Preciso rodar esses códigos novamente para concertar a falta de valores multiplos de 1000\n",
    "def initial_load():\n",
    "    with sqlite3.connect('bitcoin_blockchain.db') as conn:\n",
    "        for c in range(0,chunks+1):\n",
    "            block_stats = [rpc_connection.getblockstats(i) for i in range(c*chunk_size+1, (c+1)*chunk_size)+1]\n",
    "            df = pd.DataFrame(block_stats)\n",
    "            df['feerate_percentiles'] = df['feerate_percentiles'].astype(str)\n",
    "            df.to_sql('blockchain', conn, if_exists='append') \n",
    "        print(f'finished {(c+1)*chunk_size} record')\n",
    "\n",
    "def update_chain(start_block):\n",
    "    num_blocks = rpc_connection.getblockcount()\n",
    "    block_stas = [rpc_connection.getblockstats(i) for i in range(start_block, num_blocks)]\n",
    "    df = pd.DataFrame(block_stas)\n",
    "    df[\"feerate_percentiles\"] = df[\"feerate_percentiles\"].astype(str)\n",
    "    df.to_sql(\"blockchain\",conn, if_exists='append')"
   ]
  },
  {
   "cell_type": "code",
   "execution_count": 5,
   "metadata": {},
   "outputs": [],
   "source": [
    "#initial_load() Só precisa fazer uma vez"
   ]
  },
  {
   "cell_type": "code",
   "execution_count": 6,
   "metadata": {},
   "outputs": [],
   "source": [
    "#update_chain(801000) Atualizar depois "
   ]
  },
  {
   "cell_type": "code",
   "execution_count": 7,
   "metadata": {},
   "outputs": [],
   "source": [
    "conn = sqlite3.connect(\"bitcoin_blockchain.db\")\n",
    "df = pd.read_sql(\"select * from blockchain\", conn)"
   ]
  },
  {
   "cell_type": "code",
   "execution_count": 8,
   "metadata": {},
   "outputs": [
    {
     "data": {
      "text/plain": [
       "100101"
      ]
     },
     "execution_count": 8,
     "metadata": {},
     "output_type": "execute_result"
    }
   ],
   "source": [
    "df.shape[0]\n",
    "df[\"height\"][100000]"
   ]
  },
  {
   "cell_type": "code",
   "execution_count": 9,
   "metadata": {},
   "outputs": [
    {
     "data": {
      "text/plain": [
       "'for index, sub in enumerate(df[\"subsidy\"]):\\n    if index%1000 == 0:\\n        user_input = input(\"Continuar? (s/n): \")\\n        if user_input== \"n\":\\n            break\\n    print(index, sub) \\n'"
      ]
     },
     "execution_count": 9,
     "metadata": {},
     "output_type": "execute_result"
    }
   ],
   "source": [
    "#Util apenas para encontrar o erro do pq o index está diferente do hight do bloco.\n",
    "\"\"\"for index, sub in enumerate(df[\"subsidy\"]):\n",
    "    if index%1000 == 0:\n",
    "        user_input = input(\"Continuar? (s/n): \")\n",
    "        if user_input== \"n\":\n",
    "            break\n",
    "    print(index, sub) \n",
    "\"\"\""
   ]
  },
  {
   "cell_type": "code",
   "execution_count": 10,
   "metadata": {},
   "outputs": [
    {
     "data": {
      "text/plain": [
       "0   2009-01-09 02:54:25\n",
       "1   2009-01-09 02:55:44\n",
       "2   2009-01-09 03:02:53\n",
       "3   2009-01-09 03:16:28\n",
       "4   2009-01-09 03:23:48\n",
       "Name: GMT, dtype: datetime64[ns]"
      ]
     },
     "execution_count": 10,
     "metadata": {},
     "output_type": "execute_result"
    }
   ],
   "source": [
    "# Convertendo os dados de hora de unix time para GMT\n",
    "df[\"GMT\"] = pd.to_datetime(df[\"time\"], unit=\"s\")\n",
    "df[\"GMT\"].head()"
   ]
  },
  {
   "cell_type": "code",
   "execution_count": 11,
   "metadata": {},
   "outputs": [],
   "source": [
    "# Criação da coluna de subsidio em btc (transformando satoshi em btc)\n",
    "df[\"reward\"] = df[\"subsidy\"]/10**(8)"
   ]
  },
  {
   "cell_type": "code",
   "execution_count": 12,
   "metadata": {},
   "outputs": [
    {
     "data": {
      "text/plain": [
       "0         50.00\n",
       "1         50.00\n",
       "2         50.00\n",
       "3         50.00\n",
       "4         50.00\n",
       "          ...  \n",
       "800194     6.25\n",
       "800195     6.25\n",
       "800196     6.25\n",
       "800197     6.25\n",
       "800198     6.25\n",
       "Name: reward, Length: 800199, dtype: float64"
      ]
     },
     "execution_count": 12,
     "metadata": {},
     "output_type": "execute_result"
    }
   ],
   "source": [
    "df[\"reward\"]"
   ]
  },
  {
   "cell_type": "code",
   "execution_count": 13,
   "metadata": {},
   "outputs": [],
   "source": [
    "df[\"total_supply\"] = df[\"reward\"].cumsum()"
   ]
  },
  {
   "cell_type": "code",
   "execution_count": 14,
   "metadata": {},
   "outputs": [
    {
     "data": {
      "text/plain": [
       "0               50.00\n",
       "1              100.00\n",
       "2              150.00\n",
       "3              200.00\n",
       "4              250.00\n",
       "             ...     \n",
       "800194    19424281.25\n",
       "800195    19424287.50\n",
       "800196    19424293.75\n",
       "800197    19424300.00\n",
       "800198    19424306.25\n",
       "Name: total_supply, Length: 800199, dtype: float64"
      ]
     },
     "execution_count": 14,
     "metadata": {},
     "output_type": "execute_result"
    }
   ],
   "source": [
    "df[\"total_supply\"]"
   ]
  },
  {
   "cell_type": "code",
   "execution_count": 15,
   "metadata": {},
   "outputs": [
    {
     "data": {
      "text/plain": [
       "Index(['index', 'avgfee', 'avgfeerate', 'avgtxsize', 'blockhash',\n",
       "       'feerate_percentiles', 'height', 'ins', 'maxfee', 'maxfeerate',\n",
       "       'maxtxsize', 'medianfee', 'mediantime', 'mediantxsize', 'minfee',\n",
       "       'minfeerate', 'mintxsize', 'outs', 'subsidy', 'swtotal_size',\n",
       "       'swtotal_weight', 'swtxs', 'time', 'total_out', 'total_size',\n",
       "       'total_weight', 'totalfee', 'txs', 'utxo_increase', 'utxo_size_inc',\n",
       "       'utxo_increase_actual', 'utxo_size_inc_actual', 'GMT', 'reward',\n",
       "       'total_supply'],\n",
       "      dtype='object')"
      ]
     },
     "execution_count": 15,
     "metadata": {},
     "output_type": "execute_result"
    }
   ],
   "source": [
    "df.columns"
   ]
  },
  {
   "cell_type": "code",
   "execution_count": 16,
   "metadata": {},
   "outputs": [
    {
     "data": {
      "text/plain": [
       "0         2009\n",
       "1         2009\n",
       "2         2009\n",
       "3         2009\n",
       "4         2009\n",
       "          ... \n",
       "800194    2023\n",
       "800195    2023\n",
       "800196    2023\n",
       "800197    2023\n",
       "800198    2023\n",
       "Name: year, Length: 800199, dtype: int32"
      ]
     },
     "execution_count": 16,
     "metadata": {},
     "output_type": "execute_result"
    }
   ],
   "source": [
    "df[\"year\"] = df[\"GMT\"].dt.year\n",
    "df[\"year\"]"
   ]
  },
  {
   "cell_type": "code",
   "execution_count": 17,
   "metadata": {},
   "outputs": [
    {
     "data": {
      "text/plain": [
       "3392600.0"
      ]
     },
     "execution_count": 17,
     "metadata": {},
     "output_type": "execute_result"
    }
   ],
   "source": [
    "df.loc[df.year==2010, \"reward\"].sum()"
   ]
  },
  {
   "cell_type": "code",
   "execution_count": 18,
   "metadata": {},
   "outputs": [
    {
     "name": "stdout",
     "output_type": "stream",
     "text": [
      "2009\n",
      "2010\n",
      "2011\n",
      "2012\n",
      "2013\n",
      "2014\n",
      "2015\n",
      "2016\n",
      "2017\n",
      "2018\n",
      "2019\n",
      "2020\n",
      "2021\n",
      "2022\n",
      "2023\n"
     ]
    }
   ],
   "source": [
    "for i in df[\"year\"].unique():\n",
    "    print(i)"
   ]
  },
  {
   "cell_type": "code",
   "execution_count": 19,
   "metadata": {},
   "outputs": [
    {
     "data": {
      "text/plain": [
       "{2009: 1622850.0,\n",
       " 2010: 3392600.0,\n",
       " 2011: 2978350.0,\n",
       " 2012: 2609650.0,\n",
       " 2013: 1584250.0,\n",
       " 2014: 1470150.0,\n",
       " 2015: 1356650.0,\n",
       " 2016: 1044825.0,\n",
       " 2017: 698412.5,\n",
       " 2018: 680537.5,\n",
       " 2019: 677225.0,\n",
       " 2020: 452868.75,\n",
       " 2021: 328956.25,\n",
       " 2022: 332093.75,\n",
       " 2023: 194887.5}"
      ]
     },
     "execution_count": 19,
     "metadata": {},
     "output_type": "execute_result"
    }
   ],
   "source": [
    "reward = {i: df.loc[df.year == i, \"reward\"].sum() for i in df.year.unique()}\n",
    "\n",
    "reward"
   ]
  },
  {
   "cell_type": "code",
   "execution_count": 20,
   "metadata": {},
   "outputs": [],
   "source": [
    "keys = []\n",
    "values = []\n",
    "for i in range(2009,2023):\n",
    "    keys.append(i)\n",
    "    values.append(reward[i])\n"
   ]
  },
  {
   "cell_type": "code",
   "execution_count": 21,
   "metadata": {},
   "outputs": [
    {
     "data": {
      "image/png": "[encoded data removed]",
      "text/plain": [
       "<Figure size 640x480 with 1 Axes>"
      ]
     },
     "metadata": {},
     "output_type": "display_data"
    }
   ],
   "source": [
    "import pandas as pd\n",
    "import matplotlib.pyplot as plt\n",
    "\n",
    "# Example keys and values\n",
    "\n",
    "# Create a dictionary from keys and values\n",
    "data_dict = {'Keys': keys, 'Values': values}\n",
    "\n",
    "# Create a DataFrame from the dictionary\n",
    "data = pd.DataFrame(data_dict)\n",
    "\n",
    "# Plot the DataFrame\n",
    "data.plot(x = \"Keys\", y = \"Values\", kind = \"bar\")\n",
    "plt.show()\n"
   ]
  },
  {
   "cell_type": "code",
   "execution_count": 22,
   "metadata": {},
   "outputs": [],
   "source": [
    "for i in df.year.unique():\n",
    "    df.loc[df[\"year\"]==i, \"annual_flow\"] = reward[i] "
   ]
  },
  {
   "cell_type": "code",
   "execution_count": 23,
   "metadata": {},
   "outputs": [
    {
     "data": {
      "text/plain": [
       "0         1622850.0\n",
       "1         1622850.0\n",
       "2         1622850.0\n",
       "3         1622850.0\n",
       "4         1622850.0\n",
       "            ...    \n",
       "800194     194887.5\n",
       "800195     194887.5\n",
       "800196     194887.5\n",
       "800197     194887.5\n",
       "800198     194887.5\n",
       "Name: annual_flow, Length: 800199, dtype: float64"
      ]
     },
     "execution_count": 23,
     "metadata": {},
     "output_type": "execute_result"
    }
   ],
   "source": [
    "df[\"annual_flow\"]"
   ]
  },
  {
   "cell_type": "code",
   "execution_count": 24,
   "metadata": {},
   "outputs": [],
   "source": [
    "df[\"sf_ratio\"]= df[\"total_supply\"]/df[\"annual_flow\"]"
   ]
  },
  {
   "cell_type": "code",
   "execution_count": 25,
   "metadata": {},
   "outputs": [],
   "source": [
    "df[\"GMT_date\"] =df[\"GMT\"].dt.date "
   ]
  },
  {
   "cell_type": "code",
   "execution_count": 26,
   "metadata": {},
   "outputs": [
    {
     "data": {
      "text/plain": [
       "0         2009-01-09\n",
       "1         2009-01-09\n",
       "2         2009-01-09\n",
       "3         2009-01-09\n",
       "4         2009-01-09\n",
       "             ...    \n",
       "800194    2023-07-31\n",
       "800195    2023-07-31\n",
       "800196    2023-07-31\n",
       "800197    2023-07-31\n",
       "800198    2023-07-31\n",
       "Name: GMT_date, Length: 800199, dtype: object"
      ]
     },
     "execution_count": 26,
     "metadata": {},
     "output_type": "execute_result"
    }
   ],
   "source": [
    "df.GMT_date"
   ]
  },
  {
   "cell_type": "code",
   "execution_count": 27,
   "metadata": {},
   "outputs": [],
   "source": [
    "df_daily = df.groupby(\"GMT_date\", as_index = False).agg({\"GMT_date\":\"first\", \"sf_ratio\":\"max\", \"total_supply\":\"max\"})"
   ]
  },
  {
   "cell_type": "code",
   "execution_count": 28,
   "metadata": {},
   "outputs": [
    {
     "data": {
      "text/html": [
       "<div>\n",
       "<style scoped>\n",
       "    .dataframe tbody tr th:only-of-type {\n",
       "        vertical-align: middle;\n",
       "    }\n",
       "\n",
       "    .dataframe tbody tr th {\n",
       "        vertical-align: top;\n",
       "    }\n",
       "\n",
       "    .dataframe thead th {\n",
       "        text-align: right;\n",
       "    }\n",
       "</style>\n",
       "<table border=\"1\" class=\"dataframe\">\n",
       "  <thead>\n",
       "    <tr style=\"text-align: right;\">\n",
       "      <th></th>\n",
       "      <th>GMT_date</th>\n",
       "      <th>sf_ratio</th>\n",
       "      <th>total_supply</th>\n",
       "    </tr>\n",
       "  </thead>\n",
       "  <tbody>\n",
       "    <tr>\n",
       "      <th>0</th>\n",
       "      <td>2009-01-09</td>\n",
       "      <td>0.000431</td>\n",
       "      <td>700.00</td>\n",
       "    </tr>\n",
       "    <tr>\n",
       "      <th>1</th>\n",
       "      <td>2009-01-10</td>\n",
       "      <td>0.002311</td>\n",
       "      <td>3750.00</td>\n",
       "    </tr>\n",
       "    <tr>\n",
       "      <th>2</th>\n",
       "      <td>2009-01-11</td>\n",
       "      <td>0.005176</td>\n",
       "      <td>8400.00</td>\n",
       "    </tr>\n",
       "    <tr>\n",
       "      <th>3</th>\n",
       "      <td>2009-01-12</td>\n",
       "      <td>0.008072</td>\n",
       "      <td>13100.00</td>\n",
       "    </tr>\n",
       "    <tr>\n",
       "      <th>4</th>\n",
       "      <td>2009-01-13</td>\n",
       "      <td>0.011862</td>\n",
       "      <td>19250.00</td>\n",
       "    </tr>\n",
       "    <tr>\n",
       "      <th>...</th>\n",
       "      <td>...</td>\n",
       "      <td>...</td>\n",
       "      <td>...</td>\n",
       "    </tr>\n",
       "    <tr>\n",
       "      <th>5312</th>\n",
       "      <td>2023-07-27</td>\n",
       "      <td>99.654897</td>\n",
       "      <td>19421493.75</td>\n",
       "    </tr>\n",
       "    <tr>\n",
       "      <th>5313</th>\n",
       "      <td>2023-07-28</td>\n",
       "      <td>99.659387</td>\n",
       "      <td>19422368.75</td>\n",
       "    </tr>\n",
       "    <tr>\n",
       "      <th>5314</th>\n",
       "      <td>2023-07-29</td>\n",
       "      <td>99.663620</td>\n",
       "      <td>19423193.75</td>\n",
       "    </tr>\n",
       "    <tr>\n",
       "      <th>5315</th>\n",
       "      <td>2023-07-30</td>\n",
       "      <td>99.669008</td>\n",
       "      <td>19424243.75</td>\n",
       "    </tr>\n",
       "    <tr>\n",
       "      <th>5316</th>\n",
       "      <td>2023-07-31</td>\n",
       "      <td>99.669328</td>\n",
       "      <td>19424306.25</td>\n",
       "    </tr>\n",
       "  </tbody>\n",
       "</table>\n",
       "<p>5317 rows × 3 columns</p>\n",
       "</div>"
      ],
      "text/plain": [
       "        GMT_date   sf_ratio  total_supply\n",
       "0     2009-01-09   0.000431        700.00\n",
       "1     2009-01-10   0.002311       3750.00\n",
       "2     2009-01-11   0.005176       8400.00\n",
       "3     2009-01-12   0.008072      13100.00\n",
       "4     2009-01-13   0.011862      19250.00\n",
       "...          ...        ...           ...\n",
       "5312  2023-07-27  99.654897   19421493.75\n",
       "5313  2023-07-28  99.659387   19422368.75\n",
       "5314  2023-07-29  99.663620   19423193.75\n",
       "5315  2023-07-30  99.669008   19424243.75\n",
       "5316  2023-07-31  99.669328   19424306.25\n",
       "\n",
       "[5317 rows x 3 columns]"
      ]
     },
     "execution_count": 28,
     "metadata": {},
     "output_type": "execute_result"
    }
   ],
   "source": [
    "df_daily"
   ]
  },
  {
   "cell_type": "code",
   "execution_count": 29,
   "metadata": {},
   "outputs": [],
   "source": [
    "import calendar\n",
    "import datetime as dt"
   ]
  },
  {
   "cell_type": "code",
   "execution_count": 30,
   "metadata": {},
   "outputs": [
    {
     "data": {
      "text/plain": [
       "(3, 30)"
      ]
     },
     "execution_count": 30,
     "metadata": {},
     "output_type": "execute_result"
    }
   ],
   "source": [
    "calendar.monthrange(2023,6)"
   ]
  },
  {
   "cell_type": "code",
   "execution_count": 31,
   "metadata": {},
   "outputs": [],
   "source": [
    "dates = []\n",
    "for y in df['year'].unique():\n",
    "    for m in range(1,13):\n",
    "        dates.append(dt.datetime(y,m,calendar.monthrange(y,m)[1]).date())"
   ]
  },
  {
   "cell_type": "code",
   "execution_count": 32,
   "metadata": {},
   "outputs": [
    {
     "data": {
      "text/plain": [
       "[datetime.date(2009, 1, 31),\n",
       " datetime.date(2009, 2, 28),\n",
       " datetime.date(2009, 3, 31),\n",
       " datetime.date(2009, 4, 30),\n",
       " datetime.date(2009, 5, 31),\n",
       " datetime.date(2009, 6, 30),\n",
       " datetime.date(2009, 7, 31),\n",
       " datetime.date(2009, 8, 31),\n",
       " datetime.date(2009, 9, 30),\n",
       " datetime.date(2009, 10, 31),\n",
       " datetime.date(2009, 11, 30),\n",
       " datetime.date(2009, 12, 31),\n",
       " datetime.date(2010, 1, 31),\n",
       " datetime.date(2010, 2, 28),\n",
       " datetime.date(2010, 3, 31),\n",
       " datetime.date(2010, 4, 30),\n",
       " datetime.date(2010, 5, 31),\n",
       " datetime.date(2010, 6, 30),\n",
       " datetime.date(2010, 7, 31),\n",
       " datetime.date(2010, 8, 31),\n",
       " datetime.date(2010, 9, 30),\n",
       " datetime.date(2010, 10, 31),\n",
       " datetime.date(2010, 11, 30),\n",
       " datetime.date(2010, 12, 31),\n",
       " datetime.date(2011, 1, 31),\n",
       " datetime.date(2011, 2, 28),\n",
       " datetime.date(2011, 3, 31),\n",
       " datetime.date(2011, 4, 30),\n",
       " datetime.date(2011, 5, 31),\n",
       " datetime.date(2011, 6, 30),\n",
       " datetime.date(2011, 7, 31),\n",
       " datetime.date(2011, 8, 31),\n",
       " datetime.date(2011, 9, 30),\n",
       " datetime.date(2011, 10, 31),\n",
       " datetime.date(2011, 11, 30),\n",
       " datetime.date(2011, 12, 31),\n",
       " datetime.date(2012, 1, 31),\n",
       " datetime.date(2012, 2, 29),\n",
       " datetime.date(2012, 3, 31),\n",
       " datetime.date(2012, 4, 30),\n",
       " datetime.date(2012, 5, 31),\n",
       " datetime.date(2012, 6, 30),\n",
       " datetime.date(2012, 7, 31),\n",
       " datetime.date(2012, 8, 31),\n",
       " datetime.date(2012, 9, 30),\n",
       " datetime.date(2012, 10, 31),\n",
       " datetime.date(2012, 11, 30),\n",
       " datetime.date(2012, 12, 31),\n",
       " datetime.date(2013, 1, 31),\n",
       " datetime.date(2013, 2, 28),\n",
       " datetime.date(2013, 3, 31),\n",
       " datetime.date(2013, 4, 30),\n",
       " datetime.date(2013, 5, 31),\n",
       " datetime.date(2013, 6, 30),\n",
       " datetime.date(2013, 7, 31),\n",
       " datetime.date(2013, 8, 31),\n",
       " datetime.date(2013, 9, 30),\n",
       " datetime.date(2013, 10, 31),\n",
       " datetime.date(2013, 11, 30),\n",
       " datetime.date(2013, 12, 31),\n",
       " datetime.date(2014, 1, 31),\n",
       " datetime.date(2014, 2, 28),\n",
       " datetime.date(2014, 3, 31),\n",
       " datetime.date(2014, 4, 30),\n",
       " datetime.date(2014, 5, 31),\n",
       " datetime.date(2014, 6, 30),\n",
       " datetime.date(2014, 7, 31),\n",
       " datetime.date(2014, 8, 31),\n",
       " datetime.date(2014, 9, 30),\n",
       " datetime.date(2014, 10, 31),\n",
       " datetime.date(2014, 11, 30),\n",
       " datetime.date(2014, 12, 31),\n",
       " datetime.date(2015, 1, 31),\n",
       " datetime.date(2015, 2, 28),\n",
       " datetime.date(2015, 3, 31),\n",
       " datetime.date(2015, 4, 30),\n",
       " datetime.date(2015, 5, 31),\n",
       " datetime.date(2015, 6, 30),\n",
       " datetime.date(2015, 7, 31),\n",
       " datetime.date(2015, 8, 31),\n",
       " datetime.date(2015, 9, 30),\n",
       " datetime.date(2015, 10, 31),\n",
       " datetime.date(2015, 11, 30),\n",
       " datetime.date(2015, 12, 31),\n",
       " datetime.date(2016, 1, 31),\n",
       " datetime.date(2016, 2, 29),\n",
       " datetime.date(2016, 3, 31),\n",
       " datetime.date(2016, 4, 30),\n",
       " datetime.date(2016, 5, 31),\n",
       " datetime.date(2016, 6, 30),\n",
       " datetime.date(2016, 7, 31),\n",
       " datetime.date(2016, 8, 31),\n",
       " datetime.date(2016, 9, 30),\n",
       " datetime.date(2016, 10, 31),\n",
       " datetime.date(2016, 11, 30),\n",
       " datetime.date(2016, 12, 31),\n",
       " datetime.date(2017, 1, 31),\n",
       " datetime.date(2017, 2, 28),\n",
       " datetime.date(2017, 3, 31),\n",
       " datetime.date(2017, 4, 30),\n",
       " datetime.date(2017, 5, 31),\n",
       " datetime.date(2017, 6, 30),\n",
       " datetime.date(2017, 7, 31),\n",
       " datetime.date(2017, 8, 31),\n",
       " datetime.date(2017, 9, 30),\n",
       " datetime.date(2017, 10, 31),\n",
       " datetime.date(2017, 11, 30),\n",
       " datetime.date(2017, 12, 31),\n",
       " datetime.date(2018, 1, 31),\n",
       " datetime.date(2018, 2, 28),\n",
       " datetime.date(2018, 3, 31),\n",
       " datetime.date(2018, 4, 30),\n",
       " datetime.date(2018, 5, 31),\n",
       " datetime.date(2018, 6, 30),\n",
       " datetime.date(2018, 7, 31),\n",
       " datetime.date(2018, 8, 31),\n",
       " datetime.date(2018, 9, 30),\n",
       " datetime.date(2018, 10, 31),\n",
       " datetime.date(2018, 11, 30),\n",
       " datetime.date(2018, 12, 31),\n",
       " datetime.date(2019, 1, 31),\n",
       " datetime.date(2019, 2, 28),\n",
       " datetime.date(2019, 3, 31),\n",
       " datetime.date(2019, 4, 30),\n",
       " datetime.date(2019, 5, 31),\n",
       " datetime.date(2019, 6, 30),\n",
       " datetime.date(2019, 7, 31),\n",
       " datetime.date(2019, 8, 31),\n",
       " datetime.date(2019, 9, 30),\n",
       " datetime.date(2019, 10, 31),\n",
       " datetime.date(2019, 11, 30),\n",
       " datetime.date(2019, 12, 31),\n",
       " datetime.date(2020, 1, 31),\n",
       " datetime.date(2020, 2, 29),\n",
       " datetime.date(2020, 3, 31),\n",
       " datetime.date(2020, 4, 30),\n",
       " datetime.date(2020, 5, 31),\n",
       " datetime.date(2020, 6, 30),\n",
       " datetime.date(2020, 7, 31),\n",
       " datetime.date(2020, 8, 31),\n",
       " datetime.date(2020, 9, 30),\n",
       " datetime.date(2020, 10, 31),\n",
       " datetime.date(2020, 11, 30),\n",
       " datetime.date(2020, 12, 31),\n",
       " datetime.date(2021, 1, 31),\n",
       " datetime.date(2021, 2, 28),\n",
       " datetime.date(2021, 3, 31),\n",
       " datetime.date(2021, 4, 30),\n",
       " datetime.date(2021, 5, 31),\n",
       " datetime.date(2021, 6, 30),\n",
       " datetime.date(2021, 7, 31),\n",
       " datetime.date(2021, 8, 31),\n",
       " datetime.date(2021, 9, 30),\n",
       " datetime.date(2021, 10, 31),\n",
       " datetime.date(2021, 11, 30),\n",
       " datetime.date(2021, 12, 31),\n",
       " datetime.date(2022, 1, 31),\n",
       " datetime.date(2022, 2, 28),\n",
       " datetime.date(2022, 3, 31),\n",
       " datetime.date(2022, 4, 30),\n",
       " datetime.date(2022, 5, 31),\n",
       " datetime.date(2022, 6, 30),\n",
       " datetime.date(2022, 7, 31),\n",
       " datetime.date(2022, 8, 31),\n",
       " datetime.date(2022, 9, 30),\n",
       " datetime.date(2022, 10, 31),\n",
       " datetime.date(2022, 11, 30),\n",
       " datetime.date(2022, 12, 31),\n",
       " datetime.date(2023, 1, 31),\n",
       " datetime.date(2023, 2, 28),\n",
       " datetime.date(2023, 3, 31),\n",
       " datetime.date(2023, 4, 30),\n",
       " datetime.date(2023, 5, 31),\n",
       " datetime.date(2023, 6, 30),\n",
       " datetime.date(2023, 7, 31),\n",
       " datetime.date(2023, 8, 31),\n",
       " datetime.date(2023, 9, 30),\n",
       " datetime.date(2023, 10, 31),\n",
       " datetime.date(2023, 11, 30),\n",
       " datetime.date(2023, 12, 31)]"
      ]
     },
     "execution_count": 32,
     "metadata": {},
     "output_type": "execute_result"
    }
   ],
   "source": [
    "dates"
   ]
  },
  {
   "cell_type": "code",
   "execution_count": 33,
   "metadata": {},
   "outputs": [],
   "source": [
    "final_df = df.loc[df['GMT_date'].isin(dates)]"
   ]
  },
  {
   "cell_type": "markdown",
   "metadata": {},
   "source": [
    "# Historical Bitcoin Price and Market Cap "
   ]
  },
  {
   "cell_type": "code",
   "execution_count": 34,
   "metadata": {},
   "outputs": [
    {
     "ename": "ConnectionError",
     "evalue": "ERR#0015: error 403, try again later.",
     "output_type": "error",
     "traceback": [
      "\u001b[0;31m---------------------------------------------------------------------------\u001b[0m",
      "\u001b[0;31mConnectionError\u001b[0m                           Traceback (most recent call last)",
      "Cell \u001b[0;32mIn[34], line 2\u001b[0m\n\u001b[1;32m      1\u001b[0m \u001b[39mimport\u001b[39;00m \u001b[39minvestpy\u001b[39;00m\n\u001b[0;32m----> 2\u001b[0m data \u001b[39m=\u001b[39m investpy\u001b[39m.\u001b[39;49mget_crypto_historical_data(crypto\u001b[39m=\u001b[39;49m\u001b[39m\"\u001b[39;49m\u001b[39mbitcoin\u001b[39;49m\u001b[39m\"\u001b[39;49m, from_date\u001b[39m=\u001b[39;49m\u001b[39m\"\u001b[39;49m\u001b[39m01/01/2009\u001b[39;49m\u001b[39m\"\u001b[39;49m, to_date\u001b[39m=\u001b[39;49m\u001b[39m\"\u001b[39;49m\u001b[39m31/07/2023\u001b[39;49m\u001b[39m\"\u001b[39;49m)\n",
      "File \u001b[0;32m~/.local/lib/python3.11/site-packages/investpy/crypto.py:598\u001b[0m, in \u001b[0;36mget_crypto_historical_data\u001b[0;34m(crypto, from_date, to_date, as_json, order, interval)\u001b[0m\n\u001b[1;32m    595\u001b[0m req \u001b[39m=\u001b[39m requests\u001b[39m.\u001b[39mpost(url, headers\u001b[39m=\u001b[39mhead, data\u001b[39m=\u001b[39mparams)\n\u001b[1;32m    597\u001b[0m \u001b[39mif\u001b[39;00m req\u001b[39m.\u001b[39mstatus_code \u001b[39m!=\u001b[39m \u001b[39m200\u001b[39m:\n\u001b[0;32m--> 598\u001b[0m     \u001b[39mraise\u001b[39;00m \u001b[39mConnectionError\u001b[39;00m(\n\u001b[1;32m    599\u001b[0m         \u001b[39m\"\u001b[39m\u001b[39mERR#0015: error \u001b[39m\u001b[39m\"\u001b[39m \u001b[39m+\u001b[39m \u001b[39mstr\u001b[39m(req\u001b[39m.\u001b[39mstatus_code) \u001b[39m+\u001b[39m \u001b[39m\"\u001b[39m\u001b[39m, try again later.\u001b[39m\u001b[39m\"\u001b[39m\n\u001b[1;32m    600\u001b[0m     )\n\u001b[1;32m    602\u001b[0m \u001b[39mif\u001b[39;00m \u001b[39mnot\u001b[39;00m req\u001b[39m.\u001b[39mtext:\n\u001b[1;32m    603\u001b[0m     \u001b[39mcontinue\u001b[39;00m\n",
      "\u001b[0;31mConnectionError\u001b[0m: ERR#0015: error 403, try again later."
     ]
    }
   ],
   "source": [
    "import investpy\n",
    "data = investpy.get_crypto_historical_data(crypto=\"bitcoin\", from_date=\"01/01/2009\", to_date=\"31/07/2023\")"
   ]
  },
  {
   "cell_type": "code",
   "execution_count": null,
   "metadata": {},
   "outputs": [
    {
     "ename": "ConnectionError",
     "evalue": "ERR#0015: error 403, try again later.",
     "output_type": "error",
     "traceback": [
      "\u001b[0;31m---------------------------------------------------------------------------\u001b[0m",
      "\u001b[0;31mConnectionError\u001b[0m                           Traceback (most recent call last)",
      "Cell \u001b[0;32mIn[95], line 3\u001b[0m\n\u001b[1;32m      1\u001b[0m \u001b[39mimport\u001b[39;00m \u001b[39minvestpy\u001b[39;00m\n\u001b[0;32m----> 3\u001b[0m data \u001b[39m=\u001b[39m investpy\u001b[39m.\u001b[39;49mget_crypto_historical_data(crypto\u001b[39m=\u001b[39;49m\u001b[39m'\u001b[39;49m\u001b[39mbitcoin\u001b[39;49m\u001b[39m'\u001b[39;49m,\n\u001b[1;32m      4\u001b[0m                                            from_date\u001b[39m=\u001b[39;49m\u001b[39m'\u001b[39;49m\u001b[39m01/01/2014\u001b[39;49m\u001b[39m'\u001b[39;49m,\n\u001b[1;32m      5\u001b[0m                                            to_date\u001b[39m=\u001b[39;49m\u001b[39m'\u001b[39;49m\u001b[39m01/01/2019\u001b[39;49m\u001b[39m'\u001b[39;49m)\n\u001b[1;32m      7\u001b[0m \u001b[39mprint\u001b[39m(data\u001b[39m.\u001b[39mhead())\n",
      "File \u001b[0;32m~/.local/lib/python3.11/site-packages/investpy/crypto.py:598\u001b[0m, in \u001b[0;36mget_crypto_historical_data\u001b[0;34m(crypto, from_date, to_date, as_json, order, interval)\u001b[0m\n\u001b[1;32m    595\u001b[0m req \u001b[39m=\u001b[39m requests\u001b[39m.\u001b[39mpost(url, headers\u001b[39m=\u001b[39mhead, data\u001b[39m=\u001b[39mparams)\n\u001b[1;32m    597\u001b[0m \u001b[39mif\u001b[39;00m req\u001b[39m.\u001b[39mstatus_code \u001b[39m!=\u001b[39m \u001b[39m200\u001b[39m:\n\u001b[0;32m--> 598\u001b[0m     \u001b[39mraise\u001b[39;00m \u001b[39mConnectionError\u001b[39;00m(\n\u001b[1;32m    599\u001b[0m         \u001b[39m\"\u001b[39m\u001b[39mERR#0015: error \u001b[39m\u001b[39m\"\u001b[39m \u001b[39m+\u001b[39m \u001b[39mstr\u001b[39m(req\u001b[39m.\u001b[39mstatus_code) \u001b[39m+\u001b[39m \u001b[39m\"\u001b[39m\u001b[39m, try again later.\u001b[39m\u001b[39m\"\u001b[39m\n\u001b[1;32m    600\u001b[0m     )\n\u001b[1;32m    602\u001b[0m \u001b[39mif\u001b[39;00m \u001b[39mnot\u001b[39;00m req\u001b[39m.\u001b[39mtext:\n\u001b[1;32m    603\u001b[0m     \u001b[39mcontinue\u001b[39;00m\n",
      "\u001b[0;31mConnectionError\u001b[0m: ERR#0015: error 403, try again later."
     ]
    }
   ],
   "source": [
    "import investpy\n",
    "\n",
    "data = investpy.get_crypto_historical_data(crypto='bitcoin',\n",
    "                                           from_date='01/01/2014',\n",
    "                                           to_date='01/01/2019')\n",
    "\n",
    "print(data.head())"
   ]
  },
  {
   "cell_type": "code",
   "execution_count": null,
   "metadata": {},
   "outputs": [],
   "source": [
    "import yfinance as yf\n",
    "\n",
    "yf.download(tickers=\"BTC-USD\", interval=\"4h\", start= '1 Jan 2018', end=None) f"
   ]
  },
  {
   "cell_type": "code",
   "execution_count": null,
   "metadata": {},
   "outputs": [
    {
     "name": "stdout",
     "output_type": "stream",
     "text": [
      "[*********************100%***********************]  1 of 1 completed\n"
     ]
    }
   ],
   "source": [
    "import yfinance as yf\n",
    "\n",
    "btc_data = yf.download(\"BTC-USD\", start=\"2022-01-01\", end=\"2022-12-31\")"
   ]
  },
  {
   "cell_type": "code",
   "execution_count": null,
   "metadata": {},
   "outputs": [
    {
     "data": {
      "text/html": [
       "<div>\n",
       "<style scoped>\n",
       "    .dataframe tbody tr th:only-of-type {\n",
       "        vertical-align: middle;\n",
       "    }\n",
       "\n",
       "    .dataframe tbody tr th {\n",
       "        vertical-align: top;\n",
       "    }\n",
       "\n",
       "    .dataframe thead th {\n",
       "        text-align: right;\n",
       "    }\n",
       "</style>\n",
       "<table border=\"1\" class=\"dataframe\">\n",
       "  <thead>\n",
       "    <tr style=\"text-align: right;\">\n",
       "      <th></th>\n",
       "      <th>Open</th>\n",
       "      <th>High</th>\n",
       "      <th>Low</th>\n",
       "      <th>Close</th>\n",
       "      <th>Adj Close</th>\n",
       "      <th>Volume</th>\n",
       "    </tr>\n",
       "    <tr>\n",
       "      <th>Date</th>\n",
       "      <th></th>\n",
       "      <th></th>\n",
       "      <th></th>\n",
       "      <th></th>\n",
       "      <th></th>\n",
       "      <th></th>\n",
       "    </tr>\n",
       "  </thead>\n",
       "  <tbody>\n",
       "    <tr>\n",
       "      <th>2022-01-01</th>\n",
       "      <td>46311.746094</td>\n",
       "      <td>47827.312500</td>\n",
       "      <td>46288.484375</td>\n",
       "      <td>47686.812500</td>\n",
       "      <td>47686.812500</td>\n",
       "      <td>24582667004</td>\n",
       "    </tr>\n",
       "    <tr>\n",
       "      <th>2022-01-02</th>\n",
       "      <td>47680.925781</td>\n",
       "      <td>47881.406250</td>\n",
       "      <td>46856.937500</td>\n",
       "      <td>47345.218750</td>\n",
       "      <td>47345.218750</td>\n",
       "      <td>27951569547</td>\n",
       "    </tr>\n",
       "    <tr>\n",
       "      <th>2022-01-03</th>\n",
       "      <td>47343.542969</td>\n",
       "      <td>47510.726562</td>\n",
       "      <td>45835.964844</td>\n",
       "      <td>46458.117188</td>\n",
       "      <td>46458.117188</td>\n",
       "      <td>33071628362</td>\n",
       "    </tr>\n",
       "    <tr>\n",
       "      <th>2022-01-04</th>\n",
       "      <td>46458.851562</td>\n",
       "      <td>47406.546875</td>\n",
       "      <td>45752.464844</td>\n",
       "      <td>45897.574219</td>\n",
       "      <td>45897.574219</td>\n",
       "      <td>42494677905</td>\n",
       "    </tr>\n",
       "    <tr>\n",
       "      <th>2022-01-05</th>\n",
       "      <td>45899.359375</td>\n",
       "      <td>46929.046875</td>\n",
       "      <td>42798.222656</td>\n",
       "      <td>43569.003906</td>\n",
       "      <td>43569.003906</td>\n",
       "      <td>36851084859</td>\n",
       "    </tr>\n",
       "    <tr>\n",
       "      <th>...</th>\n",
       "      <td>...</td>\n",
       "      <td>...</td>\n",
       "      <td>...</td>\n",
       "      <td>...</td>\n",
       "      <td>...</td>\n",
       "      <td>...</td>\n",
       "    </tr>\n",
       "    <tr>\n",
       "      <th>2022-12-26</th>\n",
       "      <td>16842.250000</td>\n",
       "      <td>16920.123047</td>\n",
       "      <td>16812.369141</td>\n",
       "      <td>16919.804688</td>\n",
       "      <td>16919.804688</td>\n",
       "      <td>11886957804</td>\n",
       "    </tr>\n",
       "    <tr>\n",
       "      <th>2022-12-27</th>\n",
       "      <td>16919.291016</td>\n",
       "      <td>16959.845703</td>\n",
       "      <td>16642.072266</td>\n",
       "      <td>16717.173828</td>\n",
       "      <td>16717.173828</td>\n",
       "      <td>15748580239</td>\n",
       "    </tr>\n",
       "    <tr>\n",
       "      <th>2022-12-28</th>\n",
       "      <td>16716.400391</td>\n",
       "      <td>16768.169922</td>\n",
       "      <td>16497.556641</td>\n",
       "      <td>16552.572266</td>\n",
       "      <td>16552.572266</td>\n",
       "      <td>17005713920</td>\n",
       "    </tr>\n",
       "    <tr>\n",
       "      <th>2022-12-29</th>\n",
       "      <td>16552.322266</td>\n",
       "      <td>16651.755859</td>\n",
       "      <td>16508.683594</td>\n",
       "      <td>16642.341797</td>\n",
       "      <td>16642.341797</td>\n",
       "      <td>14472237479</td>\n",
       "    </tr>\n",
       "    <tr>\n",
       "      <th>2022-12-30</th>\n",
       "      <td>16641.330078</td>\n",
       "      <td>16643.427734</td>\n",
       "      <td>16408.474609</td>\n",
       "      <td>16602.585938</td>\n",
       "      <td>16602.585938</td>\n",
       "      <td>15929162910</td>\n",
       "    </tr>\n",
       "  </tbody>\n",
       "</table>\n",
       "<p>364 rows × 6 columns</p>\n",
       "</div>"
      ],
      "text/plain": [
       "                    Open          High           Low         Close   \n",
       "Date                                                                 \n",
       "2022-01-01  46311.746094  47827.312500  46288.484375  47686.812500  \\\n",
       "2022-01-02  47680.925781  47881.406250  46856.937500  47345.218750   \n",
       "2022-01-03  47343.542969  47510.726562  45835.964844  46458.117188   \n",
       "2022-01-04  46458.851562  47406.546875  45752.464844  45897.574219   \n",
       "2022-01-05  45899.359375  46929.046875  42798.222656  43569.003906   \n",
       "...                  ...           ...           ...           ...   \n",
       "2022-12-26  16842.250000  16920.123047  16812.369141  16919.804688   \n",
       "2022-12-27  16919.291016  16959.845703  16642.072266  16717.173828   \n",
       "2022-12-28  16716.400391  16768.169922  16497.556641  16552.572266   \n",
       "2022-12-29  16552.322266  16651.755859  16508.683594  16642.341797   \n",
       "2022-12-30  16641.330078  16643.427734  16408.474609  16602.585938   \n",
       "\n",
       "               Adj Close       Volume  \n",
       "Date                                   \n",
       "2022-01-01  47686.812500  24582667004  \n",
       "2022-01-02  47345.218750  27951569547  \n",
       "2022-01-03  46458.117188  33071628362  \n",
       "2022-01-04  45897.574219  42494677905  \n",
       "2022-01-05  43569.003906  36851084859  \n",
       "...                  ...          ...  \n",
       "2022-12-26  16919.804688  11886957804  \n",
       "2022-12-27  16717.173828  15748580239  \n",
       "2022-12-28  16552.572266  17005713920  \n",
       "2022-12-29  16642.341797  14472237479  \n",
       "2022-12-30  16602.585938  15929162910  \n",
       "\n",
       "[364 rows x 6 columns]"
      ]
     },
     "execution_count": 98,
     "metadata": {},
     "output_type": "execute_result"
    }
   ],
   "source": [
    "btc_data"
   ]
  }
 ],
 "metadata": {
  "kernelspec": {
   "display_name": "Python 3",
   "language": "python",
   "name": "python3"
  },
  "language_info": {
   "codemirror_mode": {
    "name": "ipython",
    "version": 3
   },
   "file_extension": ".py",
   "mimetype": "text/x-python",
   "name": "python",
   "nbconvert_exporter": "python",
   "pygments_lexer": "ipython3",
   "version": "3.11.4"
  },
  "orig_nbformat": 4
 },
 "nbformat": 4,
 "nbformat_minor": 2
}
