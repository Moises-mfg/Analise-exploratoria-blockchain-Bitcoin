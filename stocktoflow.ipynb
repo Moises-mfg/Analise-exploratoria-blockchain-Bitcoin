{
 "cells": [
  {
   "cell_type": "code",
   "execution_count": 2,
   "metadata": {},
   "outputs": [],
   "source": [
    "from bitcoinrpc.authproxy import AuthServiceProxy, JSONRPCException\n",
    "import sqlite3\n",
    "import pandas as pd\n",
    "import matplotlib.pyplot as plt\n",
    "import calendar\n",
    "import datetime as dt\n",
    "import matplotlib.pyplot as plt\n",
    "import numpy as np\n",
    "from sklearn.linear_model import LinearRegression\n",
    "from sklearn.feature_selection import f_regression\n",
    "from sklearn import metrics\n",
    "import matplotlib.pyplot as plt\n",
    "import numpy as np\n",
    "import yfinance as yf\n"
   ]
  },
  {
   "cell_type": "code",
   "execution_count": 2,
   "metadata": {},
   "outputs": [],
   "source": [
    "rpc_connection = AuthServiceProxy(\"http://%s:%s@127.0.0.1:8332\"%(\"moises\", \"moises123\"),timeout=100000)\n",
    "#num_blocks = rpc_connection.getblockcount()\n",
    "#num_blocks"
   ]
  },
  {
   "cell_type": "code",
   "execution_count": 4,
   "metadata": {},
   "outputs": [],
   "source": [
    "# Pega os primeiros dados da blockchain do bitcoin e envia para uma base de dados sql\n",
    "# Preciso rodar esses códigos novamente para concertar a falta de valores multiplos de 1000\n",
    "\n",
    "chunk_size = 1000\n",
    "#chunks = int(num_blocks/chunk_size)\n",
    "#chunks\n",
    "\n",
    "def initial_load():\n",
    "    with sqlite3.connect('bitcoin_blockchain.db') as conn:\n",
    "        for c in range(0,chunks+1):\n",
    "            block_stats = [rpc_connection.getblockstats(i) for i in range(c*chunk_size+1, (c+1)*chunk_size)+1]\n",
    "            df = pd.DataFrame(block_stats)\n",
    "            df['feerate_percentiles'] = df['feerate_percentiles'].astype(str)\n",
    "            df.to_sql('blockchain', conn, if_exists='append') \n",
    "        print(f'finished {(c+1)*chunk_size} record')\n",
    "\n",
    "def update_chain(start_block):\n",
    "    num_blocks = rpc_connection.getblockcount()\n",
    "    block_stas = [rpc_connection.getblockstats(i) for i in range(start_block, num_blocks)]\n",
    "    df = pd.DataFrame(block_stas)\n",
    "    df[\"feerate_percentiles\"] = df[\"feerate_percentiles\"].astype(str)\n",
    "    df.to_sql(\"blockchain\",conn, if_exists='append')"
   ]
  },
  {
   "cell_type": "code",
   "execution_count": 5,
   "metadata": {},
   "outputs": [],
   "source": [
    "#initial_load() Só precisa fazer uma vez\n",
    "#update_chain(801000) Atualizar depois "
   ]
  },
  {
   "cell_type": "code",
   "execution_count": 3,
   "metadata": {},
   "outputs": [],
   "source": [
    "conn = sqlite3.connect(\"bitcoin_blockchain.db\")\n",
    "df = pd.read_sql(\"select * from blockchain\", conn)"
   ]
  },
  {
   "cell_type": "code",
   "execution_count": 9,
   "metadata": {},
   "outputs": [
    {
     "data": {
      "text/plain": [
       "'for index, sub in enumerate(df[\"subsidy\"]):\\n    if index%1000 == 0:\\n        user_input = input(\"Continuar? (s/n): \")\\n        if user_input== \"n\":\\n            break\\n    print(index, sub) \\n'"
      ]
     },
     "execution_count": 9,
     "metadata": {},
     "output_type": "execute_result"
    }
   ],
   "source": [
    "#Util apenas para encontrar o erro do pq o index está diferente do hight do bloco.\n",
    "\"\"\"for index, sub in enumerate(df[\"subsidy\"]):\n",
    "    if index%1000 == 0:\n",
    "        user_input = input(\"Continuar? (s/n): \")\n",
    "        if user_input== \"n\":\n",
    "            break\n",
    "    print(index, sub) \n",
    "\"\"\""
   ]
  },
  {
   "cell_type": "code",
   "execution_count": 10,
   "metadata": {},
   "outputs": [
    {
     "data": {
      "text/plain": [
       "0   2009-01-09 02:54:25\n",
       "1   2009-01-09 02:55:44\n",
       "2   2009-01-09 03:02:53\n",
       "3   2009-01-09 03:16:28\n",
       "4   2009-01-09 03:23:48\n",
       "Name: GMT, dtype: datetime64[ns]"
      ]
     },
     "execution_count": 10,
     "metadata": {},
     "output_type": "execute_result"
    }
   ],
   "source": [
    "# Convertendo os dados de hora de unix time para GMT\n",
    "df[\"GMT\"] = pd.to_datetime(df[\"time\"], unit=\"s\")\n",
    "\n",
    "# Criação da coluna de subsidio em btc (transformando satoshi em btc)\n",
    "df[\"reward\"] = df[\"subsidy\"]/10**(8)\n",
    "\n",
    "# Criação coluna de soma cumulativa da quantidade de btc minerados\n",
    "df[\"total_supply\"] = df[\"reward\"].cumsum()\n",
    "\n",
    "# Criação da coluna do ano\n",
    "df[\"year\"] = df[\"GMT\"].dt.year"
   ]
  },
  {
   "cell_type": "code",
   "execution_count": 15,
   "metadata": {},
   "outputs": [
    {
     "data": {
      "text/plain": [
       "Index(['index', 'avgfee', 'avgfeerate', 'avgtxsize', 'blockhash',\n",
       "       'feerate_percentiles', 'height', 'ins', 'maxfee', 'maxfeerate',\n",
       "       'maxtxsize', 'medianfee', 'mediantime', 'mediantxsize', 'minfee',\n",
       "       'minfeerate', 'mintxsize', 'outs', 'subsidy', 'swtotal_size',\n",
       "       'swtotal_weight', 'swtxs', 'time', 'total_out', 'total_size',\n",
       "       'total_weight', 'totalfee', 'txs', 'utxo_increase', 'utxo_size_inc',\n",
       "       'utxo_increase_actual', 'utxo_size_inc_actual', 'GMT', 'reward',\n",
       "       'total_supply'],\n",
       "      dtype='object')"
      ]
     },
     "execution_count": 15,
     "metadata": {},
     "output_type": "execute_result"
    }
   ],
   "source": [
    "# Nomes das colunas do dataframe\n",
    "df.columns"
   ]
  },
  {
   "cell_type": "code",
   "execution_count": 19,
   "metadata": {},
   "outputs": [
    {
     "data": {
      "text/plain": [
       "{2009: 1622850.0,\n",
       " 2010: 3392600.0,\n",
       " 2011: 2978350.0,\n",
       " 2012: 2609650.0,\n",
       " 2013: 1584250.0,\n",
       " 2014: 1470150.0,\n",
       " 2015: 1356650.0,\n",
       " 2016: 1044825.0,\n",
       " 2017: 698412.5,\n",
       " 2018: 680537.5,\n",
       " 2019: 677225.0,\n",
       " 2020: 452868.75,\n",
       " 2021: 328956.25,\n",
       " 2022: 332093.75,\n",
       " 2023: 194887.5}"
      ]
     },
     "execution_count": 19,
     "metadata": {},
     "output_type": "execute_result"
    }
   ],
   "source": [
    "# Criação do dicionário de recompensas por ano\n",
    "reward = {i: df.loc[df.year == i, \"reward\"].sum() for i in df.year.unique()}\n",
    "\n",
    "reward"
   ]
  },
  {
   "cell_type": "code",
   "execution_count": 20,
   "metadata": {},
   "outputs": [],
   "source": [
    "year = []\n",
    "subsidy = []\n",
    "for i in range(2009,2023):\n",
    "    year.append(i)\n",
    "    subsidy.append(reward[i])\n"
   ]
  },
  {
   "cell_type": "code",
   "execution_count": 21,
   "metadata": {},
   "outputs": [
    {
     "data": {
      "image/png": "[encoded data removed]",
      "text/plain": [
       "<Figure size 640x480 with 1 Axes>"
      ]
     },
     "metadata": {},
     "output_type": "display_data"
    }
   ],
   "source": [
    "\n",
    "\n",
    "# Example keys and values\n",
    "\n",
    "# Create a dictionary from keys and values\n",
    "data_dict = {'Keys': year, 'Values': subsidy}\n",
    "\n",
    "# Create a DataFrame from the dictionary\n",
    "data = pd.DataFrame(data_dict)\n",
    "\n",
    "# Plot the DataFrame\n",
    "data.plot(x = \"Keys\", y = \"Values\", kind = \"bar\")\n",
    "plt.show()\n"
   ]
  },
  {
   "cell_type": "code",
   "execution_count": 22,
   "metadata": {},
   "outputs": [],
   "source": [
    "# Criação da coluna Annual Flow\n",
    "for i in df.year.unique():\n",
    "    df.loc[df[\"year\"]==i, \"annual_flow\"] = reward[i] \n",
    "\n",
    "# Criação da coluna Stock to Flow Ratio\n",
    "df[\"sf_ratio\"]= df[\"total_supply\"]/df[\"annual_flow\"]\n",
    "\n",
    "# Criação da coluna de data amigavel (string)\n",
    "df[\"GMT_date\"] =df[\"GMT\"].dt.date \n",
    "\n",
    "# Agrupamento dos dados por dia para serem comparados com os dados de preço\n",
    "df_daily = df.groupby(\"GMT_date\", as_index = False).agg({\"GMT_date\":\"first\", \"sf_ratio\":\"max\", \"total_supply\":\"max\"})"
   ]
  },
  {
   "cell_type": "code",
   "execution_count": null,
   "metadata": {},
   "outputs": [],
   "source": [
    "# Convertendo datas para datetime pegando até o ultimo dia do mês\n",
    "dates = []\n",
    "for y in df['year'].unique():\n",
    "    for m in range(1,13):\n",
    "        dates.append(dt.datetime(y,m,calendar.monthrange(y,m)[1]).date())\n",
    "\n",
    "final_df = df.loc[df['GMT_date'].isin(dates)]"
   ]
  },
  {
   "cell_type": "markdown",
   "metadata": {},
   "source": [
    "# Historical Bitcoin Price and Market Cap "
   ]
  },
  {
   "cell_type": "code",
   "execution_count": null,
   "metadata": {},
   "outputs": [
    {
     "name": "stdout",
     "output_type": "stream",
     "text": [
      "[*********************100%***********************]  1 of 1 completed\n"
     ]
    }
   ],
   "source": [
    "# Pega os preços do BTC do yahoo finance\n",
    "get = yf.Ticker(\"BTC-USD\")\n",
    "\n",
    "btc_data = yf.download(\"BTC-USD\", start=\"2009-01-01\", end=\"2022-12-31\")\n",
    "\n",
    "# Concerta o cabeçalho\n",
    "btc_data = btc_data.reset_index()"
   ]
  },
  {
   "cell_type": "code",
   "execution_count": null,
   "metadata": {},
   "outputs": [
    {
     "data": {
      "text/html": [
       "<div>\n",
       "<style scoped>\n",
       "    .dataframe tbody tr th:only-of-type {\n",
       "        vertical-align: middle;\n",
       "    }\n",
       "\n",
       "    .dataframe tbody tr th {\n",
       "        vertical-align: top;\n",
       "    }\n",
       "\n",
       "    .dataframe thead th {\n",
       "        text-align: right;\n",
       "    }\n",
       "</style>\n",
       "<table border=\"1\" class=\"dataframe\">\n",
       "  <thead>\n",
       "    <tr style=\"text-align: right;\">\n",
       "      <th></th>\n",
       "      <th>Date</th>\n",
       "      <th>Open</th>\n",
       "      <th>High</th>\n",
       "      <th>Low</th>\n",
       "      <th>Close</th>\n",
       "      <th>Adj Close</th>\n",
       "      <th>Volume</th>\n",
       "    </tr>\n",
       "  </thead>\n",
       "  <tbody>\n",
       "    <tr>\n",
       "      <th>0</th>\n",
       "      <td>2014-09-17</td>\n",
       "      <td>465.864014</td>\n",
       "      <td>468.174011</td>\n",
       "      <td>452.421997</td>\n",
       "      <td>457.334015</td>\n",
       "      <td>457.334015</td>\n",
       "      <td>21056800</td>\n",
       "    </tr>\n",
       "    <tr>\n",
       "      <th>1</th>\n",
       "      <td>2014-09-18</td>\n",
       "      <td>456.859985</td>\n",
       "      <td>456.859985</td>\n",
       "      <td>413.104004</td>\n",
       "      <td>424.440002</td>\n",
       "      <td>424.440002</td>\n",
       "      <td>34483200</td>\n",
       "    </tr>\n",
       "    <tr>\n",
       "      <th>2</th>\n",
       "      <td>2014-09-19</td>\n",
       "      <td>424.102997</td>\n",
       "      <td>427.834991</td>\n",
       "      <td>384.532013</td>\n",
       "      <td>394.795990</td>\n",
       "      <td>394.795990</td>\n",
       "      <td>37919700</td>\n",
       "    </tr>\n",
       "    <tr>\n",
       "      <th>3</th>\n",
       "      <td>2014-09-20</td>\n",
       "      <td>394.673004</td>\n",
       "      <td>423.295990</td>\n",
       "      <td>389.882996</td>\n",
       "      <td>408.903992</td>\n",
       "      <td>408.903992</td>\n",
       "      <td>36863600</td>\n",
       "    </tr>\n",
       "    <tr>\n",
       "      <th>4</th>\n",
       "      <td>2014-09-21</td>\n",
       "      <td>408.084991</td>\n",
       "      <td>412.425995</td>\n",
       "      <td>393.181000</td>\n",
       "      <td>398.821014</td>\n",
       "      <td>398.821014</td>\n",
       "      <td>26580100</td>\n",
       "    </tr>\n",
       "    <tr>\n",
       "      <th>...</th>\n",
       "      <td>...</td>\n",
       "      <td>...</td>\n",
       "      <td>...</td>\n",
       "      <td>...</td>\n",
       "      <td>...</td>\n",
       "      <td>...</td>\n",
       "      <td>...</td>\n",
       "    </tr>\n",
       "    <tr>\n",
       "      <th>3022</th>\n",
       "      <td>2022-12-26</td>\n",
       "      <td>16842.250000</td>\n",
       "      <td>16920.123047</td>\n",
       "      <td>16812.369141</td>\n",
       "      <td>16919.804688</td>\n",
       "      <td>16919.804688</td>\n",
       "      <td>11886957804</td>\n",
       "    </tr>\n",
       "    <tr>\n",
       "      <th>3023</th>\n",
       "      <td>2022-12-27</td>\n",
       "      <td>16919.291016</td>\n",
       "      <td>16959.845703</td>\n",
       "      <td>16642.072266</td>\n",
       "      <td>16717.173828</td>\n",
       "      <td>16717.173828</td>\n",
       "      <td>15748580239</td>\n",
       "    </tr>\n",
       "    <tr>\n",
       "      <th>3024</th>\n",
       "      <td>2022-12-28</td>\n",
       "      <td>16716.400391</td>\n",
       "      <td>16768.169922</td>\n",
       "      <td>16497.556641</td>\n",
       "      <td>16552.572266</td>\n",
       "      <td>16552.572266</td>\n",
       "      <td>17005713920</td>\n",
       "    </tr>\n",
       "    <tr>\n",
       "      <th>3025</th>\n",
       "      <td>2022-12-29</td>\n",
       "      <td>16552.322266</td>\n",
       "      <td>16651.755859</td>\n",
       "      <td>16508.683594</td>\n",
       "      <td>16642.341797</td>\n",
       "      <td>16642.341797</td>\n",
       "      <td>14472237479</td>\n",
       "    </tr>\n",
       "    <tr>\n",
       "      <th>3026</th>\n",
       "      <td>2022-12-30</td>\n",
       "      <td>16641.330078</td>\n",
       "      <td>16643.427734</td>\n",
       "      <td>16408.474609</td>\n",
       "      <td>16602.585938</td>\n",
       "      <td>16602.585938</td>\n",
       "      <td>15929162910</td>\n",
       "    </tr>\n",
       "  </tbody>\n",
       "</table>\n",
       "<p>3027 rows × 7 columns</p>\n",
       "</div>"
      ],
      "text/plain": [
       "           Date          Open          High           Low         Close   \n",
       "0    2014-09-17    465.864014    468.174011    452.421997    457.334015  \\\n",
       "1    2014-09-18    456.859985    456.859985    413.104004    424.440002   \n",
       "2    2014-09-19    424.102997    427.834991    384.532013    394.795990   \n",
       "3    2014-09-20    394.673004    423.295990    389.882996    408.903992   \n",
       "4    2014-09-21    408.084991    412.425995    393.181000    398.821014   \n",
       "...         ...           ...           ...           ...           ...   \n",
       "3022 2022-12-26  16842.250000  16920.123047  16812.369141  16919.804688   \n",
       "3023 2022-12-27  16919.291016  16959.845703  16642.072266  16717.173828   \n",
       "3024 2022-12-28  16716.400391  16768.169922  16497.556641  16552.572266   \n",
       "3025 2022-12-29  16552.322266  16651.755859  16508.683594  16642.341797   \n",
       "3026 2022-12-30  16641.330078  16643.427734  16408.474609  16602.585938   \n",
       "\n",
       "         Adj Close       Volume  \n",
       "0       457.334015     21056800  \n",
       "1       424.440002     34483200  \n",
       "2       394.795990     37919700  \n",
       "3       408.903992     36863600  \n",
       "4       398.821014     26580100  \n",
       "...            ...          ...  \n",
       "3022  16919.804688  11886957804  \n",
       "3023  16717.173828  15748580239  \n",
       "3024  16552.572266  17005713920  \n",
       "3025  16642.341797  14472237479  \n",
       "3026  16602.585938  15929162910  \n",
       "\n",
       "[3027 rows x 7 columns]"
      ]
     },
     "execution_count": 36,
     "metadata": {},
     "output_type": "execute_result"
    }
   ],
   "source": [
    "btc_data"
   ]
  },
  {
   "cell_type": "code",
   "execution_count": null,
   "metadata": {},
   "outputs": [
    {
     "data": {
      "text/html": [
       "<div>\n",
       "<style scoped>\n",
       "    .dataframe tbody tr th:only-of-type {\n",
       "        vertical-align: middle;\n",
       "    }\n",
       "\n",
       "    .dataframe tbody tr th {\n",
       "        vertical-align: top;\n",
       "    }\n",
       "\n",
       "    .dataframe thead th {\n",
       "        text-align: right;\n",
       "    }\n",
       "</style>\n",
       "<table border=\"1\" class=\"dataframe\">\n",
       "  <thead>\n",
       "    <tr style=\"text-align: right;\">\n",
       "      <th></th>\n",
       "      <th>Date</th>\n",
       "      <th>Open</th>\n",
       "      <th>High</th>\n",
       "      <th>Low</th>\n",
       "      <th>Close</th>\n",
       "      <th>Adj Close</th>\n",
       "      <th>Volume</th>\n",
       "      <th>Market_cap</th>\n",
       "    </tr>\n",
       "  </thead>\n",
       "  <tbody>\n",
       "    <tr>\n",
       "      <th>0</th>\n",
       "      <td>2014-09-17</td>\n",
       "      <td>465.864014</td>\n",
       "      <td>468.174011</td>\n",
       "      <td>452.421997</td>\n",
       "      <td>457.334015</td>\n",
       "      <td>457.334015</td>\n",
       "      <td>21056800</td>\n",
       "      <td>9.629991e+09</td>\n",
       "    </tr>\n",
       "    <tr>\n",
       "      <th>1</th>\n",
       "      <td>2014-09-18</td>\n",
       "      <td>456.859985</td>\n",
       "      <td>456.859985</td>\n",
       "      <td>413.104004</td>\n",
       "      <td>424.440002</td>\n",
       "      <td>424.440002</td>\n",
       "      <td>34483200</td>\n",
       "      <td>1.463605e+10</td>\n",
       "    </tr>\n",
       "    <tr>\n",
       "      <th>2</th>\n",
       "      <td>2014-09-19</td>\n",
       "      <td>424.102997</td>\n",
       "      <td>427.834991</td>\n",
       "      <td>384.532013</td>\n",
       "      <td>394.795990</td>\n",
       "      <td>394.795990</td>\n",
       "      <td>37919700</td>\n",
       "      <td>1.497055e+10</td>\n",
       "    </tr>\n",
       "    <tr>\n",
       "      <th>3</th>\n",
       "      <td>2014-09-20</td>\n",
       "      <td>394.673004</td>\n",
       "      <td>423.295990</td>\n",
       "      <td>389.882996</td>\n",
       "      <td>408.903992</td>\n",
       "      <td>408.903992</td>\n",
       "      <td>36863600</td>\n",
       "      <td>1.507367e+10</td>\n",
       "    </tr>\n",
       "    <tr>\n",
       "      <th>4</th>\n",
       "      <td>2014-09-21</td>\n",
       "      <td>408.084991</td>\n",
       "      <td>412.425995</td>\n",
       "      <td>393.181000</td>\n",
       "      <td>398.821014</td>\n",
       "      <td>398.821014</td>\n",
       "      <td>26580100</td>\n",
       "      <td>1.060070e+10</td>\n",
       "    </tr>\n",
       "    <tr>\n",
       "      <th>...</th>\n",
       "      <td>...</td>\n",
       "      <td>...</td>\n",
       "      <td>...</td>\n",
       "      <td>...</td>\n",
       "      <td>...</td>\n",
       "      <td>...</td>\n",
       "      <td>...</td>\n",
       "      <td>...</td>\n",
       "    </tr>\n",
       "    <tr>\n",
       "      <th>3022</th>\n",
       "      <td>2022-12-26</td>\n",
       "      <td>16842.250000</td>\n",
       "      <td>16920.123047</td>\n",
       "      <td>16812.369141</td>\n",
       "      <td>16919.804688</td>\n",
       "      <td>16919.804688</td>\n",
       "      <td>11886957804</td>\n",
       "      <td>2.011250e+14</td>\n",
       "    </tr>\n",
       "    <tr>\n",
       "      <th>3023</th>\n",
       "      <td>2022-12-27</td>\n",
       "      <td>16919.291016</td>\n",
       "      <td>16959.845703</td>\n",
       "      <td>16642.072266</td>\n",
       "      <td>16717.173828</td>\n",
       "      <td>16717.173828</td>\n",
       "      <td>15748580239</td>\n",
       "      <td>2.632718e+14</td>\n",
       "    </tr>\n",
       "    <tr>\n",
       "      <th>3024</th>\n",
       "      <td>2022-12-28</td>\n",
       "      <td>16716.400391</td>\n",
       "      <td>16768.169922</td>\n",
       "      <td>16497.556641</td>\n",
       "      <td>16552.572266</td>\n",
       "      <td>16552.572266</td>\n",
       "      <td>17005713920</td>\n",
       "      <td>2.814883e+14</td>\n",
       "    </tr>\n",
       "    <tr>\n",
       "      <th>3025</th>\n",
       "      <td>2022-12-29</td>\n",
       "      <td>16552.322266</td>\n",
       "      <td>16651.755859</td>\n",
       "      <td>16508.683594</td>\n",
       "      <td>16642.341797</td>\n",
       "      <td>16642.341797</td>\n",
       "      <td>14472237479</td>\n",
       "      <td>2.408519e+14</td>\n",
       "    </tr>\n",
       "    <tr>\n",
       "      <th>3026</th>\n",
       "      <td>2022-12-30</td>\n",
       "      <td>16641.330078</td>\n",
       "      <td>16643.427734</td>\n",
       "      <td>16408.474609</td>\n",
       "      <td>16602.585938</td>\n",
       "      <td>16602.585938</td>\n",
       "      <td>15929162910</td>\n",
       "      <td>2.644653e+14</td>\n",
       "    </tr>\n",
       "  </tbody>\n",
       "</table>\n",
       "<p>3027 rows × 8 columns</p>\n",
       "</div>"
      ],
      "text/plain": [
       "            Date          Open          High           Low         Close   \n",
       "0     2014-09-17    465.864014    468.174011    452.421997    457.334015  \\\n",
       "1     2014-09-18    456.859985    456.859985    413.104004    424.440002   \n",
       "2     2014-09-19    424.102997    427.834991    384.532013    394.795990   \n",
       "3     2014-09-20    394.673004    423.295990    389.882996    408.903992   \n",
       "4     2014-09-21    408.084991    412.425995    393.181000    398.821014   \n",
       "...          ...           ...           ...           ...           ...   \n",
       "3022  2022-12-26  16842.250000  16920.123047  16812.369141  16919.804688   \n",
       "3023  2022-12-27  16919.291016  16959.845703  16642.072266  16717.173828   \n",
       "3024  2022-12-28  16716.400391  16768.169922  16497.556641  16552.572266   \n",
       "3025  2022-12-29  16552.322266  16651.755859  16508.683594  16642.341797   \n",
       "3026  2022-12-30  16641.330078  16643.427734  16408.474609  16602.585938   \n",
       "\n",
       "         Adj Close       Volume    Market_cap  \n",
       "0       457.334015     21056800  9.629991e+09  \n",
       "1       424.440002     34483200  1.463605e+10  \n",
       "2       394.795990     37919700  1.497055e+10  \n",
       "3       408.903992     36863600  1.507367e+10  \n",
       "4       398.821014     26580100  1.060070e+10  \n",
       "...            ...          ...           ...  \n",
       "3022  16919.804688  11886957804  2.011250e+14  \n",
       "3023  16717.173828  15748580239  2.632718e+14  \n",
       "3024  16552.572266  17005713920  2.814883e+14  \n",
       "3025  16642.341797  14472237479  2.408519e+14  \n",
       "3026  16602.585938  15929162910  2.644653e+14  \n",
       "\n",
       "[3027 rows x 8 columns]"
      ]
     },
     "execution_count": 37,
     "metadata": {},
     "output_type": "execute_result"
    }
   ],
   "source": [
    "btc_data[\"Market_cap\"] = btc_data[\"Close\"] * btc_data[\"Volume\"]\n",
    "btc_data[\"Date\"] = btc_data[\"Date\"].dt.date\n",
    "btc_data"
   ]
  },
  {
   "cell_type": "code",
   "execution_count": null,
   "metadata": {},
   "outputs": [],
   "source": [
    "# fiding the index of the max value in btc_data\n",
    "max_index = btc_data['Market_cap'].idxmax()\n",
    "\n",
    "#fiding the previous day's index\n",
    "previous_index = max_index - 1\n",
    "\n",
    "# finding the date of the max\n",
    "max_date = btc_data.loc[max_index, 'Date']\n",
    "\n",
    "# finding the value of  market cap of the previous day\n",
    "previous_index_maket_cap = btc_data.loc[previous_index, 'Market_cap']\n",
    "\n",
    "#substitue the value of the max market cap in the btc_data dataframe\n",
    "btc_data.loc[max_index, 'Market_cap'] = previous_index_maket_cap\n",
    "\n"
   ]
  },
  {
   "cell_type": "code",
   "execution_count": null,
   "metadata": {},
   "outputs": [
    {
     "data": {
      "image/png": "[encoded data removed]",
      "text/plain": [
       "<Figure size 640x480 with 1 Axes>"
      ]
     },
     "metadata": {},
     "output_type": "display_data"
    }
   ],
   "source": [
    "#convert the date 2014-9-17 to datetime.date format\n",
    "data_inicial = dt.date(2014, 9, 17)\n",
    "data_final = dt.date(2022, 12, 30)\n",
    "\n",
    "#get the df_daily just after the date 2014-09-17\n",
    "df_daily = df_daily[df_daily[\"GMT_date\"] > data_inicial] \n",
    "df_daily = df_daily[df_daily[\"GMT_date\"] < data_final]\n",
    "btc_data = btc_data[btc_data[\"Date\"] > data_inicial]\n",
    "btc_data = btc_data[btc_data[\"Date\"] < data_final]\n",
    "\n",
    "X = df_daily[\"sf_ratio\"]\n",
    "y = btc_data[\"Market_cap\"]\n",
    "plt.scatter(X, y)\n",
    "plt.xlabel(\"SF ratio\")\n",
    "plt.ylabel(\"Market cap\")\n",
    "plt.title(\"SF ratio vs Market cap\")\n",
    "\n",
    "#add the trendline\n",
    "z = np.polyfit(X, y, 10)\n",
    "p = np.poly1d(z)\n",
    "plt.plot(X,p(X),\"r--\")\n",
    "\n",
    "plt.show()"
   ]
  },
  {
   "cell_type": "code",
   "execution_count": null,
   "metadata": {},
   "outputs": [
    {
     "name": "stderr",
     "output_type": "stream",
     "text": [
      "/tmp/ipykernel_22778/2534676268.py:10: RankWarning: Polyfit may be poorly conditioned\n",
      "  z = np.polyfit(X, y, 50)\n"
     ]
    },
    {
     "data": {
      "image/png": "[encoded data removed]",
      "text/plain": [
       "<Figure size 640x480 with 1 Axes>"
      ]
     },
     "metadata": {},
     "output_type": "display_data"
    }
   ],
   "source": [
    "# Um padrão de preço do Bitcoin começa a se formar com log  nas variáves de SF ratio e Market cap\n",
    "X = np.log(df_daily[\"sf_ratio\"])\n",
    "y = np.log(btc_data[\"Market_cap\"])\n",
    "plt.scatter(X, y)\n",
    "plt.xlabel(\"SF ratio\")\n",
    "plt.ylabel(\"Market cap\")\n",
    "plt.title(\"SF ratio vs Market cap\")\n",
    "\n",
    "#add the trendline\n",
    "z = np.polyfit(X, y, 50)\n",
    "p = np.poly1d(z)\n",
    "plt.plot(X,p(X),\"r--\")\n",
    "\n",
    "plt.show()"
   ]
  },
  {
   "cell_type": "code",
   "execution_count": null,
   "metadata": {},
   "outputs": [],
   "source": [
    "#assign input and output variables to X and y\n",
    "X = X.values.reshape(-1,1)\n",
    "y = y\n",
    "\n",
    "#transform the variables using log function\n",
    "y_log = np.log(y)\n",
    "x_log = np.log(X)\n",
    "\n",
    "linreg = LinearRegression().fit(x_log ,y_log)"
   ]
  },
  {
   "cell_type": "code",
   "execution_count": null,
   "metadata": {},
   "outputs": [
    {
     "name": "stdout",
     "output_type": "stream",
     "text": [
      "R^2 : 89.7%\n"
     ]
    }
   ],
   "source": [
    "print(f\"R^2 : {linreg.score(x_log, y_log):.1%}\")\n",
    "\n",
    "# Score (R^2) sugere que o modelo explica 87% da variância dos dados\n",
    "\n"
   ]
  },
  {
   "cell_type": "code",
   "execution_count": null,
   "metadata": {},
   "outputs": [],
   "source": [
    "def btc_fit_plot(x_, y_):\n",
    "    \n",
    "    linreg = LinearRegression().fit(x_,y_)\n",
    "    y_pred = linreg.predict(x_)\n",
    "    fig,ax = plt.subplots()\n",
    "    plt.scatter(x_,y_, marker = 'o')\n",
    "    plt.plot(x_, y_pred, color = 'red')\n",
    "    ax.set_title('BTC market cap vs S_F ratio')\n",
    "    ax.set_xlabel('S_F ratio')\n",
    "    ax.set_ylabel('BTC Market Cap')\n",
    "    [ax.spines[loc].set_visible(False) for loc in ['top', 'right']]\n",
    "    ax.tick_params(left= False,bottom= False)\n",
    "    \n",
    "    \n",
    "    \n",
    "    explained_variance=metrics.explained_variance_score(y_, y_pred)\n",
    "    mean_absolute_error=metrics.mean_absolute_error(y_, y_pred) \n",
    "    mse=metrics.mean_squared_error(y_, y_pred) \n",
    "    mean_squared_log_error=metrics.mean_squared_log_error(y_, y_pred)\n",
    "    median_absolute_error=metrics.median_absolute_error(y_, y_pred)\n",
    "    r2=metrics.r2_score(y_, y_pred)\n",
    "    \n",
    "    f_stat, p_f_stats = f_regression(x_, y_)\n",
    "\n",
    "    print(f'Model coefficient: {linreg.coef_}')\n",
    "    print(f'Model intercept: {linreg.intercept_}')\n",
    "    print('explained_variance: ', round(explained_variance,4))    \n",
    "    print('mean_squared_log_error: ', round(mean_squared_log_error,4))\n",
    "    print('r2: ', round(r2,4))\n",
    "    print(f'F-stats: {f_stat}') \n",
    "    print(f'prob(F-stats): {p_f_stats}')\n",
    "    print('MAE: ', round(mean_absolute_error,4))\n",
    "    print('MSE: ', round(mse,4))\n",
    "    print('RMSE: ', round(np.sqrt(mse),4))\n",
    "    \n",
    "    return linreg\n"
   ]
  },
  {
   "cell_type": "code",
   "execution_count": null,
   "metadata": {},
   "outputs": [
    {
     "name": "stdout",
     "output_type": "stream",
     "text": [
      "Model coefficient: [0.8088994]\n",
      "Model intercept: 2.4438688690562604\n",
      "explained_variance:  0.8969\n",
      "mean_squared_log_error:  0.0001\n",
      "r2:  0.8969\n",
      "F-stats: [26285.96192513]\n",
      "prob(F-stats): [0.]\n",
      "MAE:  0.0414\n",
      "MSE:  0.0027\n",
      "RMSE:  0.0515\n"
     ]
    },
    {
     "data": {
      "image/png": "[encoded data removed]",
      "text/plain": [
       "<Figure size 640x480 with 1 Axes>"
      ]
     },
     "metadata": {},
     "output_type": "display_data"
    }
   ],
   "source": [
    "linreg = btc_fit_plot(x_log, y_log)"
   ]
  },
  {
   "cell_type": "markdown",
   "metadata": {},
   "source": [
    "### Métricas adicionais"
   ]
  },
  {
   "cell_type": "code",
   "execution_count": null,
   "metadata": {},
   "outputs": [
    {
     "data": {
      "text/html": [
       "<table class=\"simpletable\">\n",
       "<caption>OLS Regression Results</caption>\n",
       "<tr>\n",
       "  <th>Dep. Variable:</th>       <td>Market_cap</td>    <th>  R-squared:         </th> <td>   0.897</td> \n",
       "</tr>\n",
       "<tr>\n",
       "  <th>Model:</th>                   <td>OLS</td>       <th>  Adj. R-squared:    </th> <td>   0.897</td> \n",
       "</tr>\n",
       "<tr>\n",
       "  <th>Method:</th>             <td>Least Squares</td>  <th>  F-statistic:       </th> <td>2.629e+04</td>\n",
       "</tr>\n",
       "<tr>\n",
       "  <th>Date:</th>             <td>Mon, 14 Aug 2023</td> <th>  Prob (F-statistic):</th>  <td>  0.00</td>  \n",
       "</tr>\n",
       "<tr>\n",
       "  <th>Time:</th>                 <td>16:48:29</td>     <th>  Log-Likelihood:    </th> <td>  4677.6</td> \n",
       "</tr>\n",
       "<tr>\n",
       "  <th>No. Observations:</th>      <td>  3025</td>      <th>  AIC:               </th> <td>  -9351.</td> \n",
       "</tr>\n",
       "<tr>\n",
       "  <th>Df Residuals:</th>          <td>  3023</td>      <th>  BIC:               </th> <td>  -9339.</td> \n",
       "</tr>\n",
       "<tr>\n",
       "  <th>Df Model:</th>              <td>     1</td>      <th>                     </th>     <td> </td>    \n",
       "</tr>\n",
       "<tr>\n",
       "  <th>Covariance Type:</th>      <td>nonrobust</td>    <th>                     </th>     <td> </td>    \n",
       "</tr>\n",
       "</table>\n",
       "<table class=\"simpletable\">\n",
       "<tr>\n",
       "    <td></td>       <th>coef</th>     <th>std err</th>      <th>t</th>      <th>P>|t|</th>  <th>[0.025</th>    <th>0.975]</th>  \n",
       "</tr>\n",
       "<tr>\n",
       "  <th>const</th> <td>    2.4439</td> <td>    0.006</td> <td>  413.683</td> <td> 0.000</td> <td>    2.432</td> <td>    2.455</td>\n",
       "</tr>\n",
       "<tr>\n",
       "  <th>x1</th>    <td>    0.8089</td> <td>    0.005</td> <td>  162.129</td> <td> 0.000</td> <td>    0.799</td> <td>    0.819</td>\n",
       "</tr>\n",
       "</table>\n",
       "<table class=\"simpletable\">\n",
       "<tr>\n",
       "  <th>Omnibus:</th>       <td>14.819</td> <th>  Durbin-Watson:     </th> <td>   0.053</td>\n",
       "</tr>\n",
       "<tr>\n",
       "  <th>Prob(Omnibus):</th> <td> 0.001</td> <th>  Jarque-Bera (JB):  </th> <td>  13.249</td>\n",
       "</tr>\n",
       "<tr>\n",
       "  <th>Skew:</th>          <td> 0.114</td> <th>  Prob(JB):          </th> <td> 0.00133</td>\n",
       "</tr>\n",
       "<tr>\n",
       "  <th>Kurtosis:</th>      <td> 2.769</td> <th>  Cond. No.          </th> <td>    12.7</td>\n",
       "</tr>\n",
       "</table><br/><br/>Notes:<br/>[1] Standard Errors assume that the covariance matrix of the errors is correctly specified."
      ],
      "text/latex": [
       "\\begin{center}\n",
       "\\begin{tabular}{lclc}\n",
       "\\toprule\n",
       "\\textbf{Dep. Variable:}    &   Market\\_cap    & \\textbf{  R-squared:         } &     0.897   \\\\\n",
       "\\textbf{Model:}            &       OLS        & \\textbf{  Adj. R-squared:    } &     0.897   \\\\\n",
       "\\textbf{Method:}           &  Least Squares   & \\textbf{  F-statistic:       } & 2.629e+04   \\\\\n",
       "\\textbf{Date:}             & Mon, 14 Aug 2023 & \\textbf{  Prob (F-statistic):} &     0.00    \\\\\n",
       "\\textbf{Time:}             &     16:48:29     & \\textbf{  Log-Likelihood:    } &    4677.6   \\\\\n",
       "\\textbf{No. Observations:} &        3025      & \\textbf{  AIC:               } &    -9351.   \\\\\n",
       "\\textbf{Df Residuals:}     &        3023      & \\textbf{  BIC:               } &    -9339.   \\\\\n",
       "\\textbf{Df Model:}         &           1      & \\textbf{                     } &             \\\\\n",
       "\\textbf{Covariance Type:}  &    nonrobust     & \\textbf{                     } &             \\\\\n",
       "\\bottomrule\n",
       "\\end{tabular}\n",
       "\\begin{tabular}{lcccccc}\n",
       "               & \\textbf{coef} & \\textbf{std err} & \\textbf{t} & \\textbf{P$> |$t$|$} & \\textbf{[0.025} & \\textbf{0.975]}  \\\\\n",
       "\\midrule\n",
       "\\textbf{const} &       2.4439  &        0.006     &   413.683  &         0.000        &        2.432    &        2.455     \\\\\n",
       "\\textbf{x1}    &       0.8089  &        0.005     &   162.129  &         0.000        &        0.799    &        0.819     \\\\\n",
       "\\bottomrule\n",
       "\\end{tabular}\n",
       "\\begin{tabular}{lclc}\n",
       "\\textbf{Omnibus:}       & 14.819 & \\textbf{  Durbin-Watson:     } &    0.053  \\\\\n",
       "\\textbf{Prob(Omnibus):} &  0.001 & \\textbf{  Jarque-Bera (JB):  } &   13.249  \\\\\n",
       "\\textbf{Skew:}          &  0.114 & \\textbf{  Prob(JB):          } &  0.00133  \\\\\n",
       "\\textbf{Kurtosis:}      &  2.769 & \\textbf{  Cond. No.          } &     12.7  \\\\\n",
       "\\bottomrule\n",
       "\\end{tabular}\n",
       "%\\caption{OLS Regression Results}\n",
       "\\end{center}\n",
       "\n",
       "Notes: \\newline\n",
       " [1] Standard Errors assume that the covariance matrix of the errors is correctly specified."
      ],
      "text/plain": [
       "<class 'statsmodels.iolib.summary.Summary'>\n",
       "\"\"\"\n",
       "                            OLS Regression Results                            \n",
       "==============================================================================\n",
       "Dep. Variable:             Market_cap   R-squared:                       0.897\n",
       "Model:                            OLS   Adj. R-squared:                  0.897\n",
       "Method:                 Least Squares   F-statistic:                 2.629e+04\n",
       "Date:                Mon, 14 Aug 2023   Prob (F-statistic):               0.00\n",
       "Time:                        16:48:29   Log-Likelihood:                 4677.6\n",
       "No. Observations:                3025   AIC:                            -9351.\n",
       "Df Residuals:                    3023   BIC:                            -9339.\n",
       "Df Model:                           1                                         \n",
       "Covariance Type:            nonrobust                                         \n",
       "==============================================================================\n",
       "                 coef    std err          t      P>|t|      [0.025      0.975]\n",
       "------------------------------------------------------------------------------\n",
       "const          2.4439      0.006    413.683      0.000       2.432       2.455\n",
       "x1             0.8089      0.005    162.129      0.000       0.799       0.819\n",
       "==============================================================================\n",
       "Omnibus:                       14.819   Durbin-Watson:                   0.053\n",
       "Prob(Omnibus):                  0.001   Jarque-Bera (JB):               13.249\n",
       "Skew:                           0.114   Prob(JB):                      0.00133\n",
       "Kurtosis:                       2.769   Cond. No.                         12.7\n",
       "==============================================================================\n",
       "\n",
       "Notes:\n",
       "[1] Standard Errors assume that the covariance matrix of the errors is correctly specified.\n",
       "\"\"\""
      ]
     },
     "execution_count": 45,
     "metadata": {},
     "output_type": "execute_result"
    }
   ],
   "source": [
    "import statsmodels.api as sm\n",
    "x_log_1 = sm.add_constant(x_log)\n",
    "model=sm.OLS(y_log,x_log_1)\n",
    "\n",
    "results = model.fit()\n",
    "results.summary()"
   ]
  }
 ],
 "metadata": {
  "kernelspec": {
   "display_name": "Python 3",
   "language": "python",
   "name": "python3"
  },
  "language_info": {
   "codemirror_mode": {
    "name": "ipython",
    "version": 3
   },
   "file_extension": ".py",
   "mimetype": "text/x-python",
   "name": "python",
   "nbconvert_exporter": "python",
   "pygments_lexer": "ipython3",
   "version": "3.11.4"
  },
  "orig_nbformat": 4
 },
 "nbformat": 4,
 "nbformat_minor": 2
}
