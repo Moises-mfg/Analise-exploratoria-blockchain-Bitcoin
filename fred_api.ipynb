{
 "cells": [
  {
   "cell_type": "code",
   "execution_count": 1,
   "metadata": {},
   "outputs": [],
   "source": [
    "from fredapi import Fred"
   ]
  },
  {
   "cell_type": "code",
   "execution_count": null,
   "metadata": {},
   "outputs": [],
   "source": [
    "#Market Yield on U.S. Treasury Securities at 2-Year Constant Maturity, Quoted on an Investment Basis (DGS2)\t\n",
    "#Assets: FED Total Assets: Total Assets: Wednesday Level (RESPPANWW)\n",
    "#M2 (WM2NS)\n",
    "#10-Year Treasury Constant Maturity Minus 3-Month Treasury Constant Maturity (T10Y3M)\n",
    "#10-Year Breakeven Inflation Rate (T10YIE)\n",
    "#Nominal Broad U.S. Dollar Index (DTWEXBGS)\n",
    "#Real Broad U.S. Dollar Index (TWRBEXB)\n",
    "#Effective Federal Funds Rate (DFF)\n",
    "#S&P 500 (SP500)\n"
   ]
  },
  {
   "cell_type": "code",
   "execution_count": 8,
   "metadata": {},
   "outputs": [],
   "source": [
    "fred = Fred(api_key='6ca0af8ae6cb787e1f4301c544385693')\n",
    "data_sp = fred.get_series('SP500')\n",
    "data_dollar_index = fred.get_series(\"DTWEXBGS\")\n"
   ]
  },
  {
   "cell_type": "code",
   "execution_count": 9,
   "metadata": {},
   "outputs": [
    {
     "data": {
      "text/plain": [
       "(2013-10-31    1756.54\n",
       " 2013-11-01    1761.64\n",
       " 2013-11-04    1767.93\n",
       " 2013-11-05    1762.97\n",
       " 2013-11-06    1770.49\n",
       "                ...   \n",
       " 2023-10-24    4247.68\n",
       " 2023-10-25    4186.77\n",
       " 2023-10-26    4137.23\n",
       " 2023-10-27    4117.37\n",
       " 2023-10-30    4166.82\n",
       " Length: 2608, dtype: float64,\n",
       " 2006-01-02    101.4155\n",
       " 2006-01-03    100.7558\n",
       " 2006-01-04    100.2288\n",
       " 2006-01-05    100.2992\n",
       " 2006-01-06    100.0241\n",
       "                 ...   \n",
       " 2023-10-23    123.7081\n",
       " 2023-10-24    124.0275\n",
       " 2023-10-25    124.1700\n",
       " 2023-10-26    124.3841\n",
       " 2023-10-27    124.0232\n",
       " Length: 4650, dtype: float64)"
      ]
     },
     "execution_count": 9,
     "metadata": {},
     "output_type": "execute_result"
    }
   ],
   "source": [
    "data_sp,data_dollar_index"
   ]
  }
 ],
 "metadata": {
  "kernelspec": {
   "display_name": "research_btc",
   "language": "python",
   "name": "python3"
  },
  "language_info": {
   "codemirror_mode": {
    "name": "ipython",
    "version": 3
   },
   "file_extension": ".py",
   "mimetype": "text/x-python",
   "name": "python",
   "nbconvert_exporter": "python",
   "pygments_lexer": "ipython3",
   "version": "3.11.3"
  }
 },
 "nbformat": 4,
 "nbformat_minor": 2
}
